{
 "cells": [
  {
   "cell_type": "markdown",
   "metadata": {},
   "source": [
    "# Reproducibility study on: *Fairness without Demographics through Adversarially Reweighted Learning*\n",
    "[![Open In Colab](https://colab.research.google.com/assets/colab-badge.svg)](https://colab.research.google.com/github/TomFrederik/fact-ai/blob/main/results.ipynb)\n",
    "\n",
    "This notebook can reproduce all the figures and tables from our report. You can run it from top to bottom without interventions or you can use it more interactively and tweak things along the way.\n",
    "\n",
    "You need to first run the cells in the Setup section. After that, each section can be run independently so feel free to skip.\n",
    "\n",
    "If you simply run the notebook from top to bottom, all the results will be based your own models trained from scratch. However, if you don't want to train your own models, you can also load our final results instead and play around with those. Instructions on how to do so are in each section."
   ]
  },
  {
   "cell_type": "markdown",
   "metadata": {},
   "source": [
    "**Note:** *If you want to run code using the image dataset, you need to download that first by running `./prepare_data.sh`! If you don't want to do that, skip the cells in the \"Image dataset\" subsection below and either use our prepared data or train your model only on the tabular datasets.*\n"
   ]
  },
  {
   "cell_type": "code",
   "execution_count": null,
   "metadata": {},
   "outputs": [
    {
     "name": "stdout",
     "output_type": "stream",
     "text": [
      "  % Total    % Received % Xferd  Average Speed   Time    Time     Time  Current\n",
      "                                 Dload  Upload   Total   Spent    Left  Speed\n",
      "100 3881k  100 3881k    0     0  1325k      0  0:00:02  0:00:02 --:--:-- 1325k\n",
      "  % Total    % Received % Xferd  Average Speed   Time    Time     Time  Current\n",
      "                                 Dload  Upload   Total   Spent    Left  Speed\n",
      "100 1956k  100 1956k    0     0   828k      0  0:00:02  0:00:02 --:--:--  828k\n",
      "  % Total    % Received % Xferd  Average Speed   Time    Time     Time  Current\n",
      "                                 Dload  Upload   Total   Spent    Left  Speed\n",
      "100 2486k  100 2486k    0     0  2109k      0  0:00:01  0:00:01 --:--:-- 2109k\n",
      "  % Total    % Received % Xferd  Average Speed   Time    Time     Time  Current\n",
      "                                 Dload  Upload   Total   Spent    Left  Speed\n",
      "100 1858k  100 1858k    0     0   923k      0  0:00:02  0:00:02 --:--:--  923k\n",
      "Archive:  LSAC/LSAC_SAS.zip\n",
      "replace LSAC/lsac.sas7bdat? [y]es, [n]o, [A]ll, [N]one, [r]ename: "
     ]
    }
   ],
   "source": [
    "!./prepare_data.sh"
   ]
  },
  {
   "cell_type": "markdown",
   "metadata": {},
   "source": [
    "A final note if you're curious about the behind-the-scenes stuff: the notebook uses a lot of helper functions imported from `analysis_utils.py` to hide some of the boring implementation details. Nothing exciting happens there but if you're curious what some function does, you can look at the source code there.\n",
    "\n",
    "The heavy lifting - all the training and evaluation - is done in the `main()` function in `main.py` (and in the modules that are imported from there). That function is very flexible: if you want to change something, first look at the `args` object we define below and see whether you can achieve your goal by changing hyperparameters there. If that's not enough, a good starting point to dive into the code is probably the `train()` function in `main.py`. It does a single training run and contains most of the training logic."
   ]
  },
  {
   "cell_type": "markdown",
   "metadata": {},
   "source": [
    "## Setup\n",
    "We first need to import some modules and set up some global configuration."
   ]
  },
  {
   "cell_type": "code",
   "execution_count": 1,
   "metadata": {},
   "outputs": [
    {
     "name": "stdout",
     "output_type": "stream",
     "text": [
      "Cuda available? False\n",
      "Cuda available? False\n"
     ]
    }
   ],
   "source": [
    "from argparse import Namespace\n",
    "import itertools\n",
    "import json\n",
    "import statistics\n",
    "import os\n",
    "from collections import defaultdict\n",
    "import numpy as np\n",
    "import torch\n",
    "import pandas as pd\n",
    "import matplotlib.pyplot as plt\n",
    "from IPython.display import display, Markdown\n",
    "\n",
    "import main\n",
    "import plot\n",
    "import computational_identifiability as identifiability\n",
    "import example_ARL_weights as adversary_outputs\n",
    "from analysis_utils import *"
   ]
  },
  {
   "cell_type": "markdown",
   "metadata": {},
   "source": [
    "All of the training commands we'll use take a `Namespace` object containing their configuration as an input. The following `args` variable will be used as the blueprint for all such configuration objects. You can leave it as it is, or read the comments to see what you might want to change."
   ]
  },
  {
   "cell_type": "code",
   "execution_count": 2,
   "metadata": {},
   "outputs": [],
   "source": [
    "default_args = Namespace(\n",
    "    #############\n",
    "    # These parameters don't affect the behavior, set them to maximize performance on your machine\n",
    "    #############\n",
    "    # batch size used during evaluation runs\n",
    "    eval_batch_size=512,\n",
    "    # number of workers for the Dataloader\n",
    "    num_workers=4,\n",
    "    \n",
    "    #############\n",
    "    # These are default hyperparameters that will be used throughout.\n",
    "    # If you want to exactly reproduce our results/those from the paper,\n",
    "    # leave them unchanged.\n",
    "    #############\n",
    "    # Number of units in the primary learner hidden layers\n",
    "    prim_hidden=[64, 32],\n",
    "    # Number of units in the adversary hidden layers.\n",
    "    # Default is [], i.e. a linear adversary.\n",
    "    # Only relevant for ARL.\n",
    "    adv_hidden=[],\n",
    "    # Inputs the adversary has access to, can contain 'X' for features,\n",
    "    # 'Y' for labels and 'S' for protected group memberships\n",
    "    adv_input=['X', 'Y'],\n",
    "    seed=0,\n",
    "    # Number of steps to pretrain the learner before the adversary.\n",
    "    # Only relevant for ARL\n",
    "    pretrain_steps=250,\n",
    "    # maximum number of training steps, excluding pretraining (we use early stopping,\n",
    "    # so actual training may be shorter)\n",
    "    train_steps=10,\n",
    "    # Optimizer, options are 'Adagrad' and 'Adam'\n",
    "    opt='Adagrad',\n",
    "    # Whether to use the Tensorflow defaults instead of the Pytorch ones.\n",
    "    # (TF has different default initializations and settings for optimizers.\n",
    "    # Because we want to reproduce the results the authors got using TF,\n",
    "    # we use the TF defaults rather than the Pytorch ones, but you can disable\n",
    "    # this behavior by setting tf_mode to False)\n",
    "    tf_mode=True,\n",
    "    \n",
    "    #############\n",
    "    # The following parameters will typically be adjusted for each run anyways.\n",
    "    # Feel free to specify any defaults you want.\n",
    "    #############\n",
    "    # Choices are 'Adult', 'LSAC', 'COMPAS' and 'EMNIST'\n",
    "    dataset='Adult',\n",
    "    # Choices are 'ARL', 'DRO', 'baseline' and 'IPW'\n",
    "    model='ARL',\n",
    "    batch_size=256,\n",
    "    prim_lr=0.1,\n",
    "    # For IPW: False means using IPW(S), True means using IPW(S+Y)\n",
    "    sensitive_label=False,\n",
    "    # DRO hparams\n",
    "    eta=0.5,\n",
    "    k=2.0,\n",
    "    \n",
    "    #############\n",
    "    # Leave the following parameters as they are unless you know what you're doing.\n",
    "    # They are used by our shell scripts but not relevant in a notebook context.\n",
    "    #############\n",
    "    grid_search=False,\n",
    "    # These only affect grid searches and don't matter otherwise\n",
    "    num_cpus=1,\n",
    "    num_gpus=0.25,\n",
    "    # progress bar won't work in notebook\n",
    "    p_bar=False,\n",
    "    disable_warnings=True,\n",
    "    # This directory will be used to save logs and checkpoint from your own runs.\n",
    "    log_dir='training_logs',\n",
    "    seed_run=False,\n",
    "    seed_run_version=0,\n",
    "    # Number of folds for cross validation, only used during grid search\n",
    "    num_folds=5,\n",
    "    version=None\n",
    ")\n",
    "default_args.dataset_type = 'image' if default_args.dataset == 'EMNIST' else 'tabular'\n",
    "default_args.working_dir = os.getcwd()"
   ]
  },
  {
   "cell_type": "markdown",
   "metadata": {},
   "source": [
    "You can also change the number of seeds that will be used to create reliable results:"
   ]
  },
  {
   "cell_type": "code",
   "execution_count": 3,
   "metadata": {},
   "outputs": [],
   "source": [
    "NUM_SEEDS = 1"
   ]
  },
  {
   "cell_type": "markdown",
   "metadata": {},
   "source": [
    "## The datasets\n",
    "We start with a brief look at the datasets we use, so we know what we're dealing with."
   ]
  },
  {
   "cell_type": "markdown",
   "metadata": {
    "heading_collapsed": "true"
   },
   "source": [
    "### Tabular datasets\n",
    "The paper tests ARL on three tabular datasets and we use the same ones."
   ]
  },
  {
   "cell_type": "markdown",
   "metadata": {},
   "source": [
    "First up is the Adult dataset:"
   ]
  },
  {
   "cell_type": "code",
   "execution_count": 4,
   "metadata": {},
   "outputs": [
    {
     "name": "stdout",
     "output_type": "stream",
     "text": [
      "32561 samples\n"
     ]
    },
    {
     "data": {
      "text/html": [
       "<div>\n",
       "<style scoped>\n",
       "    .dataframe tbody tr th:only-of-type {\n",
       "        vertical-align: middle;\n",
       "    }\n",
       "\n",
       "    .dataframe tbody tr th {\n",
       "        vertical-align: top;\n",
       "    }\n",
       "\n",
       "    .dataframe thead th {\n",
       "        text-align: right;\n",
       "    }\n",
       "</style>\n",
       "<table border=\"1\" class=\"dataframe\">\n",
       "  <thead>\n",
       "    <tr style=\"text-align: right;\">\n",
       "      <th></th>\n",
       "      <th>age</th>\n",
       "      <th>workclass</th>\n",
       "      <th>fnlwgt</th>\n",
       "      <th>education</th>\n",
       "      <th>education-num</th>\n",
       "      <th>marital-status</th>\n",
       "      <th>occupation</th>\n",
       "      <th>relationship</th>\n",
       "      <th>race</th>\n",
       "      <th>sex</th>\n",
       "      <th>capital-gain</th>\n",
       "      <th>capital-loss</th>\n",
       "      <th>hours-per-week</th>\n",
       "      <th>native-country</th>\n",
       "      <th>income</th>\n",
       "    </tr>\n",
       "  </thead>\n",
       "  <tbody>\n",
       "    <tr>\n",
       "      <th>0</th>\n",
       "      <td>39</td>\n",
       "      <td>State-gov</td>\n",
       "      <td>77516</td>\n",
       "      <td>Bachelors</td>\n",
       "      <td>13</td>\n",
       "      <td>Never-married</td>\n",
       "      <td>Adm-clerical</td>\n",
       "      <td>Not-in-family</td>\n",
       "      <td>White</td>\n",
       "      <td>Male</td>\n",
       "      <td>2174</td>\n",
       "      <td>0</td>\n",
       "      <td>40</td>\n",
       "      <td>United-States</td>\n",
       "      <td>&lt;=50K</td>\n",
       "    </tr>\n",
       "    <tr>\n",
       "      <th>1</th>\n",
       "      <td>50</td>\n",
       "      <td>Self-emp-not-inc</td>\n",
       "      <td>83311</td>\n",
       "      <td>Bachelors</td>\n",
       "      <td>13</td>\n",
       "      <td>Married-civ-spouse</td>\n",
       "      <td>Exec-managerial</td>\n",
       "      <td>Husband</td>\n",
       "      <td>White</td>\n",
       "      <td>Male</td>\n",
       "      <td>0</td>\n",
       "      <td>0</td>\n",
       "      <td>13</td>\n",
       "      <td>United-States</td>\n",
       "      <td>&lt;=50K</td>\n",
       "    </tr>\n",
       "    <tr>\n",
       "      <th>2</th>\n",
       "      <td>38</td>\n",
       "      <td>Private</td>\n",
       "      <td>215646</td>\n",
       "      <td>HS-grad</td>\n",
       "      <td>9</td>\n",
       "      <td>Divorced</td>\n",
       "      <td>Handlers-cleaners</td>\n",
       "      <td>Not-in-family</td>\n",
       "      <td>White</td>\n",
       "      <td>Male</td>\n",
       "      <td>0</td>\n",
       "      <td>0</td>\n",
       "      <td>40</td>\n",
       "      <td>United-States</td>\n",
       "      <td>&lt;=50K</td>\n",
       "    </tr>\n",
       "    <tr>\n",
       "      <th>3</th>\n",
       "      <td>53</td>\n",
       "      <td>Private</td>\n",
       "      <td>234721</td>\n",
       "      <td>11th</td>\n",
       "      <td>7</td>\n",
       "      <td>Married-civ-spouse</td>\n",
       "      <td>Handlers-cleaners</td>\n",
       "      <td>Husband</td>\n",
       "      <td>Black</td>\n",
       "      <td>Male</td>\n",
       "      <td>0</td>\n",
       "      <td>0</td>\n",
       "      <td>40</td>\n",
       "      <td>United-States</td>\n",
       "      <td>&lt;=50K</td>\n",
       "    </tr>\n",
       "    <tr>\n",
       "      <th>4</th>\n",
       "      <td>28</td>\n",
       "      <td>Private</td>\n",
       "      <td>338409</td>\n",
       "      <td>Bachelors</td>\n",
       "      <td>13</td>\n",
       "      <td>Married-civ-spouse</td>\n",
       "      <td>Prof-specialty</td>\n",
       "      <td>Wife</td>\n",
       "      <td>Black</td>\n",
       "      <td>Female</td>\n",
       "      <td>0</td>\n",
       "      <td>0</td>\n",
       "      <td>40</td>\n",
       "      <td>Cuba</td>\n",
       "      <td>&lt;=50K</td>\n",
       "    </tr>\n",
       "  </tbody>\n",
       "</table>\n",
       "</div>"
      ],
      "text/plain": [
       "   age         workclass  fnlwgt  education  education-num  \\\n",
       "0   39         State-gov   77516  Bachelors             13   \n",
       "1   50  Self-emp-not-inc   83311  Bachelors             13   \n",
       "2   38           Private  215646    HS-grad              9   \n",
       "3   53           Private  234721       11th              7   \n",
       "4   28           Private  338409  Bachelors             13   \n",
       "\n",
       "       marital-status         occupation   relationship   race     sex  \\\n",
       "0       Never-married       Adm-clerical  Not-in-family  White    Male   \n",
       "1  Married-civ-spouse    Exec-managerial        Husband  White    Male   \n",
       "2            Divorced  Handlers-cleaners  Not-in-family  White    Male   \n",
       "3  Married-civ-spouse  Handlers-cleaners        Husband  Black    Male   \n",
       "4  Married-civ-spouse     Prof-specialty           Wife  Black  Female   \n",
       "\n",
       "   capital-gain  capital-loss  hours-per-week native-country income  \n",
       "0          2174             0              40  United-States  <=50K  \n",
       "1             0             0              13  United-States  <=50K  \n",
       "2             0             0              40  United-States  <=50K  \n",
       "3             0             0              40  United-States  <=50K  \n",
       "4             0             0              40           Cuba  <=50K  "
      ]
     },
     "execution_count": 4,
     "metadata": {},
     "output_type": "execute_result"
    }
   ],
   "source": [
    "adult = pd.read_csv('data/Adult/train.csv')\n",
    "print(f\"{len(adult)} samples\")\n",
    "adult.head()"
   ]
  },
  {
   "cell_type": "markdown",
   "metadata": {},
   "source": [
    "The target variable here is `income`, which can be `<=50K` or `>50K`.\n",
    "As with all of these tabular datasets, the protected features are race and sex, which are imbalanced in these datasets:"
   ]
  },
  {
   "cell_type": "code",
   "execution_count": 5,
   "metadata": {},
   "outputs": [
    {
     "data": {
      "text/html": [
       "<div>\n",
       "<style scoped>\n",
       "    .dataframe tbody tr th:only-of-type {\n",
       "        vertical-align: middle;\n",
       "    }\n",
       "\n",
       "    .dataframe tbody tr th {\n",
       "        vertical-align: top;\n",
       "    }\n",
       "\n",
       "    .dataframe thead th {\n",
       "        text-align: right;\n",
       "    }\n",
       "</style>\n",
       "<table border=\"1\" class=\"dataframe\">\n",
       "  <thead>\n",
       "    <tr style=\"text-align: right;\">\n",
       "      <th>race</th>\n",
       "      <th>Amer-Indian-Eskimo</th>\n",
       "      <th>Asian-Pac-Islander</th>\n",
       "      <th>Black</th>\n",
       "      <th>Other</th>\n",
       "      <th>White</th>\n",
       "    </tr>\n",
       "    <tr>\n",
       "      <th>sex</th>\n",
       "      <th></th>\n",
       "      <th></th>\n",
       "      <th></th>\n",
       "      <th></th>\n",
       "      <th></th>\n",
       "    </tr>\n",
       "  </thead>\n",
       "  <tbody>\n",
       "    <tr>\n",
       "      <th>Female</th>\n",
       "      <td>119</td>\n",
       "      <td>346</td>\n",
       "      <td>1555</td>\n",
       "      <td>109</td>\n",
       "      <td>8642</td>\n",
       "    </tr>\n",
       "    <tr>\n",
       "      <th>Male</th>\n",
       "      <td>192</td>\n",
       "      <td>693</td>\n",
       "      <td>1569</td>\n",
       "      <td>162</td>\n",
       "      <td>19174</td>\n",
       "    </tr>\n",
       "  </tbody>\n",
       "</table>\n",
       "</div>"
      ],
      "text/plain": [
       "race    Amer-Indian-Eskimo  Asian-Pac-Islander  Black  Other  White\n",
       "sex                                                                \n",
       "Female                 119                 346   1555    109   8642\n",
       "Male                   192                 693   1569    162  19174"
      ]
     },
     "execution_count": 5,
     "metadata": {},
     "output_type": "execute_result"
    }
   ],
   "source": [
    "pd.crosstab(adult.sex, adult.race)"
   ]
  },
  {
   "cell_type": "markdown",
   "metadata": {},
   "source": [
    "For all of the experiments, the authors binarized these protected features to `['Female', 'Other']` and `['Black', 'Other']`, so this is what we do as well (this happens automatically in `datasets.py` when we load a dataset). This means there are four protected groups throughout."
   ]
  },
  {
   "cell_type": "markdown",
   "metadata": {},
   "source": [
    "Let's look at the two other tabular datasets as well:"
   ]
  },
  {
   "cell_type": "code",
   "execution_count": 6,
   "metadata": {},
   "outputs": [
    {
     "name": "stdout",
     "output_type": "stream",
     "text": [
      "18585 samples\n"
     ]
    },
    {
     "data": {
      "text/html": [
       "<div>\n",
       "<style scoped>\n",
       "    .dataframe tbody tr th:only-of-type {\n",
       "        vertical-align: middle;\n",
       "    }\n",
       "\n",
       "    .dataframe tbody tr th {\n",
       "        vertical-align: top;\n",
       "    }\n",
       "\n",
       "    .dataframe thead th {\n",
       "        text-align: right;\n",
       "    }\n",
       "</style>\n",
       "<table border=\"1\" class=\"dataframe\">\n",
       "  <thead>\n",
       "    <tr style=\"text-align: right;\">\n",
       "      <th></th>\n",
       "      <th>zfygpa</th>\n",
       "      <th>zgpa</th>\n",
       "      <th>DOB_yr</th>\n",
       "      <th>isPartTime</th>\n",
       "      <th>sex</th>\n",
       "      <th>race</th>\n",
       "      <th>cluster_tier</th>\n",
       "      <th>family_income</th>\n",
       "      <th>lsat</th>\n",
       "      <th>ugpa</th>\n",
       "      <th>pass_bar</th>\n",
       "      <th>weighted_lsat_ugpa</th>\n",
       "    </tr>\n",
       "  </thead>\n",
       "  <tbody>\n",
       "    <tr>\n",
       "      <th>0</th>\n",
       "      <td>0.14</td>\n",
       "      <td>-0.73</td>\n",
       "      <td>63.0</td>\n",
       "      <td>No</td>\n",
       "      <td>Male</td>\n",
       "      <td>White</td>\n",
       "      <td>3.0</td>\n",
       "      <td>4.0</td>\n",
       "      <td>37.0</td>\n",
       "      <td>2.5</td>\n",
       "      <td>Passed</td>\n",
       "      <td>676.315771</td>\n",
       "    </tr>\n",
       "    <tr>\n",
       "      <th>1</th>\n",
       "      <td>-1.48</td>\n",
       "      <td>0.00</td>\n",
       "      <td>69.0</td>\n",
       "      <td>No</td>\n",
       "      <td>Male</td>\n",
       "      <td>White</td>\n",
       "      <td>3.0</td>\n",
       "      <td>2.0</td>\n",
       "      <td>31.0</td>\n",
       "      <td>3.5</td>\n",
       "      <td>Failed_or_not_attempted</td>\n",
       "      <td>681.578933</td>\n",
       "    </tr>\n",
       "    <tr>\n",
       "      <th>2</th>\n",
       "      <td>0.61</td>\n",
       "      <td>-0.09</td>\n",
       "      <td>69.0</td>\n",
       "      <td>No</td>\n",
       "      <td>Male</td>\n",
       "      <td>White</td>\n",
       "      <td>4.0</td>\n",
       "      <td>2.0</td>\n",
       "      <td>34.0</td>\n",
       "      <td>3.4</td>\n",
       "      <td>Passed</td>\n",
       "      <td>718.947352</td>\n",
       "    </tr>\n",
       "    <tr>\n",
       "      <th>3</th>\n",
       "      <td>0.14</td>\n",
       "      <td>-0.50</td>\n",
       "      <td>66.0</td>\n",
       "      <td>No</td>\n",
       "      <td>Male</td>\n",
       "      <td>White</td>\n",
       "      <td>5.0</td>\n",
       "      <td>3.0</td>\n",
       "      <td>45.0</td>\n",
       "      <td>3.9</td>\n",
       "      <td>Passed</td>\n",
       "      <td>942.631555</td>\n",
       "    </tr>\n",
       "    <tr>\n",
       "      <th>4</th>\n",
       "      <td>0.99</td>\n",
       "      <td>0.94</td>\n",
       "      <td>67.0</td>\n",
       "      <td>No</td>\n",
       "      <td>Male</td>\n",
       "      <td>White</td>\n",
       "      <td>2.0</td>\n",
       "      <td>3.0</td>\n",
       "      <td>32.0</td>\n",
       "      <td>3.2</td>\n",
       "      <td>Failed_or_not_attempted</td>\n",
       "      <td>667.368406</td>\n",
       "    </tr>\n",
       "  </tbody>\n",
       "</table>\n",
       "</div>"
      ],
      "text/plain": [
       "   zfygpa  zgpa  DOB_yr isPartTime   sex   race  cluster_tier  family_income  \\\n",
       "0    0.14 -0.73    63.0         No  Male  White           3.0            4.0   \n",
       "1   -1.48  0.00    69.0         No  Male  White           3.0            2.0   \n",
       "2    0.61 -0.09    69.0         No  Male  White           4.0            2.0   \n",
       "3    0.14 -0.50    66.0         No  Male  White           5.0            3.0   \n",
       "4    0.99  0.94    67.0         No  Male  White           2.0            3.0   \n",
       "\n",
       "   lsat  ugpa                 pass_bar  weighted_lsat_ugpa  \n",
       "0  37.0   2.5                   Passed          676.315771  \n",
       "1  31.0   3.5  Failed_or_not_attempted          681.578933  \n",
       "2  34.0   3.4                   Passed          718.947352  \n",
       "3  45.0   3.9                   Passed          942.631555  \n",
       "4  32.0   3.2  Failed_or_not_attempted          667.368406  "
      ]
     },
     "execution_count": 6,
     "metadata": {},
     "output_type": "execute_result"
    }
   ],
   "source": [
    "lsac = pd.read_csv('data/LSAC/train.csv')\n",
    "print(f\"{len(lsac)} samples\")\n",
    "lsac.head()"
   ]
  },
  {
   "cell_type": "code",
   "execution_count": 7,
   "metadata": {},
   "outputs": [
    {
     "data": {
      "text/html": [
       "<div>\n",
       "<style scoped>\n",
       "    .dataframe tbody tr th:only-of-type {\n",
       "        vertical-align: middle;\n",
       "    }\n",
       "\n",
       "    .dataframe tbody tr th {\n",
       "        vertical-align: top;\n",
       "    }\n",
       "\n",
       "    .dataframe thead th {\n",
       "        text-align: right;\n",
       "    }\n",
       "</style>\n",
       "<table border=\"1\" class=\"dataframe\">\n",
       "  <thead>\n",
       "    <tr style=\"text-align: right;\">\n",
       "      <th>race</th>\n",
       "      <th>Black</th>\n",
       "      <th>Other</th>\n",
       "      <th>White</th>\n",
       "    </tr>\n",
       "    <tr>\n",
       "      <th>sex</th>\n",
       "      <th></th>\n",
       "      <th></th>\n",
       "      <th></th>\n",
       "    </tr>\n",
       "  </thead>\n",
       "  <tbody>\n",
       "    <tr>\n",
       "      <th>Female</th>\n",
       "      <td>743</td>\n",
       "      <td>905</td>\n",
       "      <td>6563</td>\n",
       "    </tr>\n",
       "    <tr>\n",
       "      <th>Male</th>\n",
       "      <td>511</td>\n",
       "      <td>1087</td>\n",
       "      <td>8776</td>\n",
       "    </tr>\n",
       "  </tbody>\n",
       "</table>\n",
       "</div>"
      ],
      "text/plain": [
       "race    Black  Other  White\n",
       "sex                        \n",
       "Female    743    905   6563\n",
       "Male      511   1087   8776"
      ]
     },
     "execution_count": 7,
     "metadata": {},
     "output_type": "execute_result"
    }
   ],
   "source": [
    "pd.crosstab(lsac.sex, lsac.race)"
   ]
  },
  {
   "cell_type": "markdown",
   "metadata": {},
   "source": [
    "For the LSAC dataset, the target variable is `pass_bar`. One peculiarity compared to the other datasets is that there are fewer black male samples than black female. This means that the \"minority AUC\" metric for this dataset refers to the AUC over all black male samples (the minority is automatically determined so that the metric is calculated correctly)."
   ]
  },
  {
   "cell_type": "markdown",
   "metadata": {},
   "source": [
    "Finally, we have the COMPAS dataset, where the target variable is `is_recid`:"
   ]
  },
  {
   "cell_type": "code",
   "execution_count": 8,
   "metadata": {},
   "outputs": [
    {
     "name": "stdout",
     "output_type": "stream",
     "text": [
      "5029 samples\n"
     ]
    },
    {
     "data": {
      "text/html": [
       "<div>\n",
       "<style scoped>\n",
       "    .dataframe tbody tr th:only-of-type {\n",
       "        vertical-align: middle;\n",
       "    }\n",
       "\n",
       "    .dataframe tbody tr th {\n",
       "        vertical-align: top;\n",
       "    }\n",
       "\n",
       "    .dataframe thead th {\n",
       "        text-align: right;\n",
       "    }\n",
       "</style>\n",
       "<table border=\"1\" class=\"dataframe\">\n",
       "  <thead>\n",
       "    <tr style=\"text-align: right;\">\n",
       "      <th></th>\n",
       "      <th>juv_fel_count</th>\n",
       "      <th>juv_misd_count</th>\n",
       "      <th>juv_other_count</th>\n",
       "      <th>priors_count</th>\n",
       "      <th>age</th>\n",
       "      <th>c_charge_degree</th>\n",
       "      <th>c_charge_desc</th>\n",
       "      <th>age_cat</th>\n",
       "      <th>sex</th>\n",
       "      <th>race</th>\n",
       "      <th>is_recid</th>\n",
       "    </tr>\n",
       "  </thead>\n",
       "  <tbody>\n",
       "    <tr>\n",
       "      <th>0</th>\n",
       "      <td>0</td>\n",
       "      <td>0</td>\n",
       "      <td>0</td>\n",
       "      <td>1</td>\n",
       "      <td>27</td>\n",
       "      <td>M</td>\n",
       "      <td>Opert With Susp DL 2nd Offens</td>\n",
       "      <td>25 - 45</td>\n",
       "      <td>Male</td>\n",
       "      <td>White</td>\n",
       "      <td>Yes</td>\n",
       "    </tr>\n",
       "    <tr>\n",
       "      <th>1</th>\n",
       "      <td>0</td>\n",
       "      <td>0</td>\n",
       "      <td>0</td>\n",
       "      <td>0</td>\n",
       "      <td>26</td>\n",
       "      <td>M</td>\n",
       "      <td>Grand Theft (Motor Vehicle)</td>\n",
       "      <td>25 - 45</td>\n",
       "      <td>Male</td>\n",
       "      <td>White</td>\n",
       "      <td>No</td>\n",
       "    </tr>\n",
       "    <tr>\n",
       "      <th>2</th>\n",
       "      <td>0</td>\n",
       "      <td>0</td>\n",
       "      <td>0</td>\n",
       "      <td>0</td>\n",
       "      <td>22</td>\n",
       "      <td>M</td>\n",
       "      <td>Battery</td>\n",
       "      <td>Less than 25</td>\n",
       "      <td>Female</td>\n",
       "      <td>Other</td>\n",
       "      <td>No</td>\n",
       "    </tr>\n",
       "    <tr>\n",
       "      <th>3</th>\n",
       "      <td>0</td>\n",
       "      <td>0</td>\n",
       "      <td>0</td>\n",
       "      <td>0</td>\n",
       "      <td>50</td>\n",
       "      <td>F</td>\n",
       "      <td>Carrying Concealed Firearm</td>\n",
       "      <td>Greater than 45</td>\n",
       "      <td>Male</td>\n",
       "      <td>White</td>\n",
       "      <td>No</td>\n",
       "    </tr>\n",
       "    <tr>\n",
       "      <th>4</th>\n",
       "      <td>0</td>\n",
       "      <td>0</td>\n",
       "      <td>0</td>\n",
       "      <td>1</td>\n",
       "      <td>21</td>\n",
       "      <td>F</td>\n",
       "      <td>arrest case no charge</td>\n",
       "      <td>Less than 25</td>\n",
       "      <td>Male</td>\n",
       "      <td>White</td>\n",
       "      <td>No</td>\n",
       "    </tr>\n",
       "  </tbody>\n",
       "</table>\n",
       "</div>"
      ],
      "text/plain": [
       "   juv_fel_count  juv_misd_count  juv_other_count  priors_count  age  \\\n",
       "0              0               0                0             1   27   \n",
       "1              0               0                0             0   26   \n",
       "2              0               0                0             0   22   \n",
       "3              0               0                0             0   50   \n",
       "4              0               0                0             1   21   \n",
       "\n",
       "  c_charge_degree                  c_charge_desc          age_cat     sex  \\\n",
       "0               M  Opert With Susp DL 2nd Offens          25 - 45    Male   \n",
       "1               M    Grand Theft (Motor Vehicle)          25 - 45    Male   \n",
       "2               M                        Battery     Less than 25  Female   \n",
       "3               F     Carrying Concealed Firearm  Greater than 45    Male   \n",
       "4               F          arrest case no charge     Less than 25    Male   \n",
       "\n",
       "    race is_recid  \n",
       "0  White      Yes  \n",
       "1  White       No  \n",
       "2  Other       No  \n",
       "3  White       No  \n",
       "4  White       No  "
      ]
     },
     "execution_count": 8,
     "metadata": {},
     "output_type": "execute_result"
    }
   ],
   "source": [
    "compas = pd.read_csv('data/COMPAS/train.csv')\n",
    "print(f\"{len(compas)} samples\")\n",
    "compas.head()"
   ]
  },
  {
   "cell_type": "code",
   "execution_count": 9,
   "metadata": {},
   "outputs": [
    {
     "data": {
      "text/html": [
       "<div>\n",
       "<style scoped>\n",
       "    .dataframe tbody tr th:only-of-type {\n",
       "        vertical-align: middle;\n",
       "    }\n",
       "\n",
       "    .dataframe tbody tr th {\n",
       "        vertical-align: top;\n",
       "    }\n",
       "\n",
       "    .dataframe thead th {\n",
       "        text-align: right;\n",
       "    }\n",
       "</style>\n",
       "<table border=\"1\" class=\"dataframe\">\n",
       "  <thead>\n",
       "    <tr style=\"text-align: right;\">\n",
       "      <th>race</th>\n",
       "      <th>Black</th>\n",
       "      <th>Other</th>\n",
       "      <th>White</th>\n",
       "    </tr>\n",
       "    <tr>\n",
       "      <th>sex</th>\n",
       "      <th></th>\n",
       "      <th></th>\n",
       "      <th></th>\n",
       "    </tr>\n",
       "  </thead>\n",
       "  <tbody>\n",
       "    <tr>\n",
       "      <th>Female</th>\n",
       "      <td>440</td>\n",
       "      <td>117</td>\n",
       "      <td>404</td>\n",
       "    </tr>\n",
       "    <tr>\n",
       "      <th>Male</th>\n",
       "      <td>2107</td>\n",
       "      <td>638</td>\n",
       "      <td>1323</td>\n",
       "    </tr>\n",
       "  </tbody>\n",
       "</table>\n",
       "</div>"
      ],
      "text/plain": [
       "race    Black  Other  White\n",
       "sex                        \n",
       "Female    440    117    404\n",
       "Male     2107    638   1323"
      ]
     },
     "execution_count": 9,
     "metadata": {},
     "output_type": "execute_result"
    }
   ],
   "source": [
    "pd.crosstab(compas.sex, compas.race)"
   ]
  },
  {
   "cell_type": "markdown",
   "metadata": {
    "heading_collapsed": "true"
   },
   "source": [
    "### Image dataset\n",
    "In addition to the tabular datasets used by the authors, we tested ARL on image data, to see how well it works on other modalities. We used a dataset based on EMNIST."
   ]
  },
  {
   "cell_type": "markdown",
   "metadata": {},
   "source": [
    "Remember, to run these cells you need to create the dataset first by running `./prepare_data.sh`."
   ]
  },
  {
   "cell_type": "code",
   "execution_count": 10,
   "metadata": {},
   "outputs": [
    {
     "name": "stdout",
     "output_type": "stream",
     "text": [
      "61306 samples\n"
     ]
    }
   ],
   "source": [
    "from datasets import EMNISTDataset\n",
    "emnist = EMNISTDataset()\n",
    "print(f\"{len(emnist)} samples\")"
   ]
  },
  {
   "cell_type": "markdown",
   "metadata": {},
   "source": [
    "Just like the tabular dataset, a sample from our modified EMNIST dataset contains features, a binary label, and a membership in a protected group. In contrast to the tabular data with four protected groups, there are only two for this dataset.\n",
    "\n",
    "The features are not tabular data, but instead a grayscale image of 28x28 pixels."
   ]
  },
  {
   "cell_type": "code",
   "execution_count": 11,
   "metadata": {},
   "outputs": [
    {
     "name": "stdout",
     "output_type": "stream",
     "text": [
      "torch.Size([1, 28, 28])\n",
      "tensor(1.)\n",
      "tensor(0.)\n"
     ]
    }
   ],
   "source": [
    "x, y, s = emnist[0]\n",
    "print(x.shape)\n",
    "print(y)\n",
    "print(s)"
   ]
  },
  {
   "cell_type": "markdown",
   "metadata": {},
   "source": [
    "The (balanced) EMNIST dataset contains 47 different classes. Below, we plot some examples of the characters:"
   ]
  },
  {
   "cell_type": "code",
   "execution_count": 12,
   "metadata": {},
   "outputs": [
    {
     "data": {
      "image/png": "[encoded data removed]",
      "text/plain": [
       "<Figure size 648x576 with 30 Axes>"
      ]
     },
     "metadata": {
      "needs_background": "light"
     },
     "output_type": "display_data"
    }
   ],
   "source": [
    "plt.figure(figsize=(9, 8))\n",
    "for i in range(30):\n",
    "    x, y, s = emnist[i]\n",
    "    plt.subplot(5, 6, i + 1)\n",
    "    plt.imshow(x.squeeze().numpy(), cmap='gray')\n",
    "    plt.axis('off')"
   ]
  },
  {
   "cell_type": "markdown",
   "metadata": {},
   "source": [
    "## Single training run\n",
    "We begin by training end evaluating a single model to show how our interface works in a simple setting. You can skip this section if you want to immediately reproduce our results.\n"
   ]
  },
  {
   "cell_type": "markdown",
   "metadata": {},
   "source": [
    "In the previous section, we created a set of default arguments for the training process. Whenever we do a training run and want to adjust any options, we copy this default config and then make changes:"
   ]
  },
  {
   "cell_type": "code",
   "execution_count": 13,
   "metadata": {},
   "outputs": [],
   "source": [
    "args = Namespace(**vars(default_args))\n",
    "args.model = 'ARL'\n",
    "args.dataset = 'Adult'"
   ]
  },
  {
   "cell_type": "markdown",
   "metadata": {},
   "source": [
    "See the previous section for a complete list of options, including explanations."
   ]
  },
  {
   "cell_type": "markdown",
   "metadata": {},
   "source": [
    "The `main` function does the following:\n",
    "1. Load the dataset\n",
    "2. Randomly split off 10% of the training set as a validation set\n",
    "3. Train the model, using the validation set for early stopping\n",
    "4. Load the best model (according to validation performance)\n",
    "5. Evaluate the performance of that model on the test set\n",
    "\n",
    "It prints out the final test performance and also saves it to disk, as well as checkpoints and tensorboard logs. Running it for a single model and dataset should take a few minutes at most.\n",
    "\n",
    "It can also perform a grid search to find the optimal learning rate and batch size, see the notes at the end of this notebook."
   ]
  },
  {
   "cell_type": "code",
   "execution_count": 14,
   "metadata": {},
   "outputs": [
    {
     "name": "stderr",
     "output_type": "stream",
     "text": [
      "GPU available: False, used: False\n",
      "TPU available: None, using: 0 TPU cores\n",
      "\n",
      "  | Name      | Type              | Params\n",
      "------------------------------------------------\n",
      "0 | learner   | Learner           | 8.6 K \n",
      "1 | adversary | Adversary         | 103   \n",
      "2 | loss_fct  | BCEWithLogitsLoss | 0     \n",
      "------------------------------------------------\n",
      "8.7 K     Trainable params\n",
      "0         Non-trainable params\n",
      "8.7 K     Total params\n"
     ]
    },
    {
     "name": "stdout",
     "output_type": "stream",
     "text": [
      "creating dir ./training_logs/Adult/ARL/version_1611826212\n"
     ]
    },
    {
     "name": "stderr",
     "output_type": "stream",
     "text": [
      "/home/erik/.miniconda3/envs/fact-ai/lib/python3.8/site-packages/pytorch_lightning/utilities/distributed.py:49: UserWarning: training_step returned None if it was on purpose, ignore this warning...\n",
      "  warnings.warn(*args, **kwargs)\n"
     ]
    },
    {
     "name": "stdout",
     "output_type": "stream",
     "text": [
      "time to fit was 4.215067386627197\n",
      "Results = {'min_auc': 0.884012758731842, 'macro_avg_auc': 0.9178934246301651, 'micro_avg_auc': 0.9089484214782715, 'minority_auc': 0.939019501209259, 'accuracy': 0.8557828068733215}\n"
     ]
    },
    {
     "data": {
      "text/plain": [
       "{'min_auc': 0.884012758731842,\n",
       " 'macro_avg_auc': 0.9178934246301651,\n",
       " 'micro_avg_auc': 0.9089484214782715,\n",
       " 'minority_auc': 0.939019501209259,\n",
       " 'accuracy': 0.8557828068733215}"
      ]
     },
     "execution_count": 14,
     "metadata": {},
     "output_type": "execute_result"
    }
   ],
   "source": [
    "main.main(args)"
   ]
  },
  {
   "cell_type": "markdown",
   "metadata": {},
   "source": [
    "If you want to observe the runs using Tensorboard, you can run `tensorboard --logdir training_logs` in your command line. You can also inspect our final runs using the `final_logs` logdir. The runs in the next section will be saved to `complete_run_logs` so they are clearly separated from individual experimental runs like the one we just did."
   ]
  },
  {
   "cell_type": "markdown",
   "metadata": {},
   "source": [
    "## Runs for all models and datasets\n",
    "To recreate the tables from our report, we need to train every model on each of the datasets. We also need to do several runs with different seeds for each combination. This may take a bit longer (on the order of a few hours), so you can also skip directly to the next section and create the tables and figures based on our results."
   ]
  },
  {
   "cell_type": "markdown",
   "metadata": {},
   "source": [
    "First, we need to choose which combinations of datasets and models we want to train. The defaults below will reproduce all the results from our report but feel free to remove some if you only want to test specific combinations.\n",
    "\n",
    "The desired runs are stored in `dataset_model_list`, which contains tuples of the form `(dataset, model)`, such as `('Adult', 'ARL')`. We use `itertools.product` for convenience to create all possible combinations but you can create/modify this list in any way you want (there is no reason why every method has to be combined with every dataset).\n",
    "\n",
    "**Note:** If you want to add other methods than the baseline and ARL for the EMNIST dataset, you will need to speficy your own hyperparameters for those (see below). For computational reasons, we only used those two models for EMNIST, so we don't know what good hyperparameters are for the other methods and don't provide any."
   ]
  },
  {
   "cell_type": "code",
   "execution_count": 4,
   "metadata": {},
   "outputs": [
    {
     "name": "stdout",
     "output_type": "stream",
     "text": [
      "Dataset/model combinations that will be trained:\n",
      "('Adult', 'baseline')\n",
      "('Adult', 'DRO')\n",
      "('Adult', 'ARL')\n",
      "('Adult', 'IPW(S)')\n",
      "('Adult', 'IPW(S+Y)')\n",
      "('LSAC', 'baseline')\n",
      "('LSAC', 'DRO')\n",
      "('LSAC', 'ARL')\n",
      "('LSAC', 'IPW(S)')\n",
      "('LSAC', 'IPW(S+Y)')\n",
      "('COMPAS', 'baseline')\n",
      "('COMPAS', 'DRO')\n",
      "('COMPAS', 'ARL')\n",
      "('COMPAS', 'IPW(S)')\n",
      "('COMPAS', 'IPW(S+Y)')\n",
      "('EMNIST', 'baseline')\n",
      "('EMNIST', 'ARL')\n"
     ]
    }
   ],
   "source": [
    "dataset_model_list = []\n",
    "# For the tabular datasets, we use all the methods\n",
    "# Note that here, we allow IPW(S) and IPW(S+Y) as model names,\n",
    "# even though the documentation in the Setup section only listed\n",
    "# IPW as an option. `run_model`, which we'll use below, handles this\n",
    "# behind the scenes and sets `sensitive_label` accordingly.\n",
    "models = ['baseline', 'DRO', 'ARL', 'IPW(S)', 'IPW(S+Y)']\n",
    "datasets = ['Adult', 'LSAC', 'COMPAS']\n",
    "dataset_model_list += list(itertools.product(datasets, models))\n",
    "\n",
    "# The runs for EMNIST take longer, so we only train the baseline model and ARL by default\n",
    "# but you can add more methods\n",
    "models = ['baseline', 'ARL']\n",
    "datasets = ['EMNIST']\n",
    "dataset_model_list += list(itertools.product(datasets, models))\n",
    "print('Dataset/model combinations that will be trained:')\n",
    "print('\\n'.join(map(str, dataset_model_list)))"
   ]
  },
  {
   "cell_type": "markdown",
   "metadata": {},
   "source": [
    "Now we load the optimal hyperparameters that we determined using grid search. If you want to do your own grid search, take a look at the notes at the end of this notebook first."
   ]
  },
  {
   "cell_type": "code",
   "execution_count": 5,
   "metadata": {},
   "outputs": [],
   "source": [
    "with open('optimal_hparams.json') as f:\n",
    "    optimal_hparams = json.load(f)"
   ]
  },
  {
   "cell_type": "markdown",
   "metadata": {},
   "source": [
    "The hyperparameter settings are simply a dictionary:"
   ]
  },
  {
   "cell_type": "code",
   "execution_count": 6,
   "metadata": {},
   "outputs": [
    {
     "name": "stdout",
     "output_type": "stream",
     "text": [
      "{\n",
      "    \"Adult\": {\n",
      "        \"baseline\": {\n",
      "            \"batch_size\": 512,\n",
      "            \"prim_lr\": 2\n",
      "        },\n",
      "        \"DRO\": {\n",
      "            \"batch_size\": 128,\n",
      "            \"prim_lr\": 1,\n",
      "            \"eta\": 0.5\n",
      "        },\n",
      "        \"ARL\": {\n",
      "            \"batch_size\": 128,\n",
      "            \"prim_lr\": 0.1\n",
      "        },\n",
      "        \"IPW(S)\": {\n",
      "            \"batch_size\": 128,\n",
      "            \"prim_lr\": 0.01\n",
      "        },\n",
      "        \"IPW(S+Y)\": {\n",
      "            \"batch_size\": 256,\n",
      "            \"prim_lr\": 0.1\n",
      "        }\n",
      "    },\n",
      "    \"LSAC\": {\n",
      "        \"baseline\": {\n",
      "            \"batch_size\": 64,\n",
      "            \"prim_lr\": 0.1\n",
      "        },\n",
      "        \"DRO\": {\n",
      "            \"batch_size\": 128,\n",
      "            \"prim_lr\": 1,\n",
      "            \"eta\": 0.6\n",
      "        },\n",
      "        \"ARL\": {\n",
      "            \"batch_size\": 64,\n",
      "            \"prim_lr\": 0.1\n",
      "        },\n",
      "        \"IPW(S)\": {\n",
      "            \"batch_size\": 256,\n",
      "            \"prim_lr\": 0.1\n",
      "        },\n",
      "        \"IPW(S+Y)\": {\n",
      "            \"batch_size\": 64,\n",
      "            \"prim_lr\": 0.1\n",
      "        }\n",
      "    },\n",
      "    \"COMPAS\": {\n",
      "        \"baseline\": {\n",
      "            \"batch_size\": 256,\n",
      "            \"prim_lr\": 0.1\n",
      "        },\n",
      "        \"DRO\": {\n",
      "            \"batch_size\": 256,\n",
      "            \"prim_lr\": 1,\n",
      "            \"eta\": 0.6\n",
      "        },\n",
      "        \"ARL\": {\n",
      "            \"batch_size\": 256,\n",
      "            \"prim_lr\": 0.1\n",
      "        },\n",
      "        \"IPW(S)\": {\n",
      "            \"batch_size\": 256,\n",
      "            \"prim_lr\": 0.1\n",
      "        },\n",
      "        \"IPW(S+Y)\": {\n",
      "            \"batch_size\": 512,\n",
      "            \"prim_lr\": 0.1\n",
      "        }\n",
      "    },\n",
      "    \"EMNIST\": {\n",
      "        \"baseline\": {\n",
      "            \"batch_size\": 256,\n",
      "            \"prim_lr\": 0.01\n",
      "        },\n",
      "        \"ARL\": {\n",
      "            \"batch_size\": 512,\n",
      "            \"prim_lr\": 0.01\n",
      "        }\n",
      "    }\n",
      "}\n"
     ]
    }
   ],
   "source": [
    "print(json.dumps(optimal_hparams, indent=4))"
   ]
  },
  {
   "cell_type": "markdown",
   "metadata": {},
   "source": [
    "If you want to use your own hyperparameters instead, you can therefore just change or overwrite the `optimal_hparams` variable. You are also not limited to setting learning rate and batch size; you can set any of the `args` attributes individually for each model/dataset combination. Any values that are not set use the defaults we specified above."
   ]
  },
  {
   "cell_type": "markdown",
   "metadata": {},
   "source": [
    "Now we do runs with 10 different seeds for all the dataset/model combinations specified above. You can change the number of seeds (and/or use different seeds than 0, ..., 9)."
   ]
  },
  {
   "cell_type": "code",
   "execution_count": 7,
   "metadata": {},
   "outputs": [
    {
     "name": "stderr",
     "output_type": "stream",
     "text": [
      "GPU available: False, used: False\n",
      "TPU available: None, using: 0 TPU cores\n",
      "\n",
      "  | Name     | Type              | Params\n",
      "-----------------------------------------------\n",
      "0 | net      | Sequential        | 8.6 K \n",
      "1 | loss_fct | BCEWithLogitsLoss | 0     \n",
      "-----------------------------------------------\n",
      "8.6 K     Trainable params\n",
      "0         Non-trainable params\n",
      "8.6 K     Total params\n"
     ]
    },
    {
     "name": "stdout",
     "output_type": "stream",
     "text": [
      "creating dir ./complete_run_logs/Adult/baseline/version_1611827187\n",
      "time to fit was 0.754025936126709\n",
      "Results = {'min_auc': 0.5651807188987732, 'macro_avg_auc': 0.606637105345726, 'micro_avg_auc': 0.6138712167739868, 'minority_auc': 0.590583324432373, 'accuracy': 0.7637737393379211}\n"
     ]
    },
    {
     "name": "stderr",
     "output_type": "stream",
     "text": [
      "GPU available: False, used: False\n",
      "TPU available: None, using: 0 TPU cores\n",
      "\n",
      "  | Name     | Type              | Params\n",
      "-----------------------------------------------\n",
      "0 | net      | Sequential        | 8.6 K \n",
      "1 | loss_fct | DRO_loss          | 0     \n",
      "2 | bce      | BCEWithLogitsLoss | 0     \n",
      "-----------------------------------------------\n",
      "8.6 K     Trainable params\n",
      "0         Non-trainable params\n",
      "8.6 K     Total params\n"
     ]
    },
    {
     "name": "stdout",
     "output_type": "stream",
     "text": [
      "creating dir ./complete_run_logs/Adult/DRO/version_1611827193\n",
      "time to fit was 3.1597962379455566\n",
      "Results = {'min_auc': 0.8816644549369812, 'macro_avg_auc': 0.9176488071680069, 'micro_avg_auc': 0.9071617722511292, 'minority_auc': 0.9442769885063171, 'accuracy': 0.8560899496078491}\n"
     ]
    },
    {
     "name": "stderr",
     "output_type": "stream",
     "text": [
      "GPU available: False, used: False\n",
      "TPU available: None, using: 0 TPU cores\n",
      "\n",
      "  | Name      | Type              | Params\n",
      "------------------------------------------------\n",
      "0 | learner   | Learner           | 8.6 K \n",
      "1 | adversary | Adversary         | 103   \n",
      "2 | loss_fct  | BCEWithLogitsLoss | 0     \n",
      "------------------------------------------------\n",
      "8.7 K     Trainable params\n",
      "0         Non-trainable params\n",
      "8.7 K     Total params\n"
     ]
    },
    {
     "name": "stdout",
     "output_type": "stream",
     "text": [
      "creating dir ./complete_run_logs/Adult/ARL/version_1611827201\n"
     ]
    },
    {
     "name": "stderr",
     "output_type": "stream",
     "text": [
      "/home/erik/.miniconda3/envs/fact-ai/lib/python3.8/site-packages/pytorch_lightning/utilities/distributed.py:49: UserWarning: training_step returned None if it was on purpose, ignore this warning...\n",
      "  warnings.warn(*args, **kwargs)\n"
     ]
    },
    {
     "name": "stdout",
     "output_type": "stream",
     "text": [
      "time to fit was 3.4721639156341553\n",
      "Results = {'min_auc': 0.8838906288146973, 'macro_avg_auc': 0.917955294251442, 'micro_avg_auc': 0.909183144569397, 'minority_auc': 0.9403924942016602, 'accuracy': 0.8571954965591431}\n"
     ]
    },
    {
     "name": "stderr",
     "output_type": "stream",
     "text": [
      "GPU available: False, used: False\n",
      "TPU available: None, using: 0 TPU cores\n",
      "\n",
      "  | Name     | Type              | Params\n",
      "-----------------------------------------------\n",
      "0 | learner  | Learner           | 8.6 K \n",
      "1 | loss_fct | BCEWithLogitsLoss | 0     \n",
      "-----------------------------------------------\n",
      "8.6 K     Trainable params\n",
      "0         Non-trainable params\n",
      "8.6 K     Total params\n"
     ]
    },
    {
     "name": "stdout",
     "output_type": "stream",
     "text": [
      "creating dir ./complete_run_logs/Adult/IPW(S)/version_1611827211\n",
      "time to fit was 0.8995790481567383\n",
      "Results = {'min_auc': 0.7730317115783691, 'macro_avg_auc': 0.8252956122159958, 'micro_avg_auc': 0.8001481294631958, 'minority_auc': 0.881220281124115, 'accuracy': 0.7637737393379211}\n",
      "creating dir ./complete_run_logs/Adult/IPW(S+Y)/version_1611827219\n"
     ]
    },
    {
     "name": "stderr",
     "output_type": "stream",
     "text": [
      "GPU available: False, used: False\n",
      "TPU available: None, using: 0 TPU cores\n",
      "\n",
      "  | Name     | Type              | Params\n",
      "-----------------------------------------------\n",
      "0 | learner  | Learner           | 8.6 K \n",
      "1 | loss_fct | BCEWithLogitsLoss | 0     \n",
      "-----------------------------------------------\n",
      "8.6 K     Trainable params\n",
      "0         Non-trainable params\n",
      "8.6 K     Total params\n"
     ]
    },
    {
     "name": "stdout",
     "output_type": "stream",
     "text": [
      "time to fit was 0.7650537490844727\n",
      "Results = {'min_auc': 0.8634945154190063, 'macro_avg_auc': 0.9014457613229752, 'micro_avg_auc': 0.8909643888473511, 'minority_auc': 0.9312839508056641, 'accuracy': 0.7409864068031311}\n"
     ]
    },
    {
     "name": "stderr",
     "output_type": "stream",
     "text": [
      "GPU available: False, used: False\n",
      "TPU available: None, using: 0 TPU cores\n",
      "\n",
      "  | Name     | Type              | Params\n",
      "-----------------------------------------------\n",
      "0 | net      | Sequential        | 2.8 K \n",
      "1 | loss_fct | BCEWithLogitsLoss | 0     \n",
      "-----------------------------------------------\n",
      "2.8 K     Trainable params\n",
      "0         Non-trainable params\n",
      "2.8 K     Total params\n"
     ]
    },
    {
     "name": "stdout",
     "output_type": "stream",
     "text": [
      "creating dir ./complete_run_logs/LSAC/baseline/version_1611827227\n",
      "time to fit was 0.48876023292541504\n",
      "Results = {'min_auc': 0.6743922233581543, 'macro_avg_auc': 0.7032131254673004, 'micro_avg_auc': 0.7035446763038635, 'minority_auc': 0.7246260643005371, 'accuracy': 0.810695469379425}\n"
     ]
    },
    {
     "name": "stderr",
     "output_type": "stream",
     "text": [
      "GPU available: False, used: False\n",
      "TPU available: None, using: 0 TPU cores\n",
      "\n",
      "  | Name     | Type              | Params\n",
      "-----------------------------------------------\n",
      "0 | net      | Sequential        | 2.8 K \n",
      "1 | loss_fct | DRO_loss          | 0     \n",
      "2 | bce      | BCEWithLogitsLoss | 0     \n",
      "-----------------------------------------------\n",
      "2.8 K     Trainable params\n",
      "0         Non-trainable params\n",
      "2.8 K     Total params\n"
     ]
    },
    {
     "name": "stdout",
     "output_type": "stream",
     "text": [
      "creating dir ./complete_run_logs/LSAC/DRO/version_1611827231\n",
      "time to fit was 2.5728352069854736\n",
      "Results = {'min_auc': 0.7476955652236938, 'macro_avg_auc': 0.7759598940610886, 'micro_avg_auc': 0.7716999650001526, 'minority_auc': 0.781606137752533, 'accuracy': 0.8276425004005432}\n"
     ]
    },
    {
     "name": "stderr",
     "output_type": "stream",
     "text": [
      "GPU available: False, used: False\n",
      "TPU available: None, using: 0 TPU cores\n",
      "\n",
      "  | Name      | Type              | Params\n",
      "------------------------------------------------\n",
      "0 | learner   | Learner           | 2.8 K \n",
      "1 | adversary | Adversary         | 12    \n",
      "2 | loss_fct  | BCEWithLogitsLoss | 0     \n",
      "------------------------------------------------\n",
      "2.8 K     Trainable params\n",
      "0         Non-trainable params\n",
      "2.8 K     Total params\n"
     ]
    },
    {
     "name": "stdout",
     "output_type": "stream",
     "text": [
      "creating dir ./complete_run_logs/LSAC/ARL/version_1611827237\n",
      "time to fit was 2.1775453090667725\n",
      "Results = {'min_auc': 0.7342615723609924, 'macro_avg_auc': 0.7572819888591766, 'micro_avg_auc': 0.7592031359672546, 'minority_auc': 0.7700321078300476, 'accuracy': 0.8337936401367188}\n"
     ]
    },
    {
     "name": "stderr",
     "output_type": "stream",
     "text": [
      "GPU available: False, used: False\n",
      "TPU available: None, using: 0 TPU cores\n",
      "\n",
      "  | Name     | Type              | Params\n",
      "-----------------------------------------------\n",
      "0 | learner  | Learner           | 2.8 K \n",
      "1 | loss_fct | BCEWithLogitsLoss | 0     \n",
      "-----------------------------------------------\n",
      "2.8 K     Trainable params\n",
      "0         Non-trainable params\n",
      "2.8 K     Total params\n"
     ]
    },
    {
     "name": "stdout",
     "output_type": "stream",
     "text": [
      "creating dir ./complete_run_logs/LSAC/IPW(S)/version_1611827243\n",
      "time to fit was 0.5630457401275635\n",
      "Results = {'min_auc': 0.6911125183105469, 'macro_avg_auc': 0.7342090755701065, 'micro_avg_auc': 0.7176227569580078, 'minority_auc': 0.7718126773834229, 'accuracy': 0.8179764151573181}\n"
     ]
    },
    {
     "name": "stderr",
     "output_type": "stream",
     "text": [
      "GPU available: False, used: False\n",
      "TPU available: None, using: 0 TPU cores\n",
      "\n",
      "  | Name     | Type              | Params\n",
      "-----------------------------------------------\n",
      "0 | learner  | Learner           | 2.8 K \n",
      "1 | loss_fct | BCEWithLogitsLoss | 0     \n",
      "-----------------------------------------------\n",
      "2.8 K     Trainable params\n",
      "0         Non-trainable params\n",
      "2.8 K     Total params\n"
     ]
    },
    {
     "name": "stdout",
     "output_type": "stream",
     "text": [
      "creating dir ./complete_run_logs/LSAC/IPW(S+Y)/version_1611827246\n",
      "time to fit was 0.4619324207305908\n",
      "Results = {'min_auc': 0.7072097659111023, 'macro_avg_auc': 0.7364931106567383, 'micro_avg_auc': 0.7294859886169434, 'minority_auc': 0.7556089758872986, 'accuracy': 0.808184802532196}\n"
     ]
    },
    {
     "name": "stderr",
     "output_type": "stream",
     "text": [
      "GPU available: False, used: False\n",
      "TPU available: None, using: 0 TPU cores\n",
      "\n",
      "  | Name     | Type              | Params\n",
      "-----------------------------------------------\n",
      "0 | net      | Sequential        | 30.8 K\n",
      "1 | loss_fct | BCEWithLogitsLoss | 0     \n",
      "-----------------------------------------------\n",
      "30.8 K    Trainable params\n",
      "0         Non-trainable params\n",
      "30.8 K    Total params\n"
     ]
    },
    {
     "name": "stdout",
     "output_type": "stream",
     "text": [
      "creating dir ./complete_run_logs/COMPAS/baseline/version_1611827251\n",
      "time to fit was 0.35866641998291016\n",
      "Results = {'min_auc': 0.6795536279678345, 'macro_avg_auc': 0.6981346607208252, 'micro_avg_auc': 0.7062586545944214, 'minority_auc': 0.7230275869369507, 'accuracy': 0.6400741934776306}\n"
     ]
    },
    {
     "name": "stderr",
     "output_type": "stream",
     "text": [
      "GPU available: False, used: False\n",
      "TPU available: None, using: 0 TPU cores\n",
      "\n",
      "  | Name     | Type              | Params\n",
      "-----------------------------------------------\n",
      "0 | net      | Sequential        | 30.8 K\n",
      "1 | loss_fct | DRO_loss          | 0     \n",
      "2 | bce      | BCEWithLogitsLoss | 0     \n",
      "-----------------------------------------------\n",
      "30.8 K    Trainable params\n",
      "0         Non-trainable params\n",
      "30.8 K    Total params\n"
     ]
    },
    {
     "name": "stdout",
     "output_type": "stream",
     "text": [
      "creating dir ./complete_run_logs/COMPAS/DRO/version_1611827252\n",
      "time to fit was 6.210033893585205\n",
      "Results = {'min_auc': 0.7005159258842468, 'macro_avg_auc': 0.7319859713315964, 'micro_avg_auc': 0.735049843788147, 'minority_auc': 0.7512327432632446, 'accuracy': 0.6679035425186157}\n"
     ]
    },
    {
     "name": "stderr",
     "output_type": "stream",
     "text": [
      "GPU available: False, used: False\n",
      "TPU available: None, using: 0 TPU cores\n",
      "\n",
      "  | Name      | Type              | Params\n",
      "------------------------------------------------\n",
      "0 | learner   | Learner           | 30.8 K\n",
      "1 | adversary | Adversary         | 449   \n",
      "2 | loss_fct  | BCEWithLogitsLoss | 0     \n",
      "------------------------------------------------\n",
      "31.2 K    Trainable params\n",
      "0         Non-trainable params\n",
      "31.2 K    Total params\n"
     ]
    },
    {
     "name": "stdout",
     "output_type": "stream",
     "text": [
      "creating dir ./complete_run_logs/COMPAS/ARL/version_1611827259\n",
      "time to fit was 6.359504699707031\n",
      "Results = {'min_auc': 0.6971350908279419, 'macro_avg_auc': 0.7331880480051041, 'micro_avg_auc': 0.7348774075508118, 'minority_auc': 0.7487672567367554, 'accuracy': 0.6665120720863342}\n"
     ]
    },
    {
     "name": "stderr",
     "output_type": "stream",
     "text": [
      "GPU available: False, used: False\n",
      "TPU available: None, using: 0 TPU cores\n",
      "\n",
      "  | Name     | Type              | Params\n",
      "-----------------------------------------------\n",
      "0 | learner  | Learner           | 30.8 K\n",
      "1 | loss_fct | BCEWithLogitsLoss | 0     \n",
      "-----------------------------------------------\n",
      "30.8 K    Trainable params\n",
      "0         Non-trainable params\n",
      "30.8 K    Total params\n"
     ]
    },
    {
     "name": "stdout",
     "output_type": "stream",
     "text": [
      "creating dir ./complete_run_logs/COMPAS/IPW(S)/version_1611827267\n",
      "time to fit was 0.47031116485595703\n",
      "Results = {'min_auc': 0.6864989399909973, 'macro_avg_auc': 0.7222408652305603, 'micro_avg_auc': 0.7219926118850708, 'minority_auc': 0.749950647354126, 'accuracy': 0.6706864833831787}\n"
     ]
    },
    {
     "name": "stderr",
     "output_type": "stream",
     "text": [
      "GPU available: False, used: False\n",
      "TPU available: None, using: 0 TPU cores\n",
      "\n",
      "  | Name     | Type              | Params\n",
      "-----------------------------------------------\n",
      "0 | learner  | Learner           | 30.8 K\n",
      "1 | loss_fct | BCEWithLogitsLoss | 0     \n",
      "-----------------------------------------------\n",
      "30.8 K    Trainable params\n",
      "0         Non-trainable params\n",
      "30.8 K    Total params\n"
     ]
    },
    {
     "name": "stdout",
     "output_type": "stream",
     "text": [
      "creating dir ./complete_run_logs/COMPAS/IPW(S+Y)/version_1611827269\n",
      "time to fit was 0.9401190280914307\n",
      "Results = {'min_auc': 0.6960335969924927, 'macro_avg_auc': 0.7214667946100235, 'micro_avg_auc': 0.7265592217445374, 'minority_auc': 0.7443293929100037, 'accuracy': 0.6651206016540527}\n"
     ]
    },
    {
     "name": "stderr",
     "output_type": "stream",
     "text": [
      "GPU available: False, used: False\n",
      "TPU available: None, using: 0 TPU cores\n",
      "\n",
      "  | Name     | Type              | Params\n",
      "-----------------------------------------------\n",
      "0 | cnn      | Sequential        | 640   \n",
      "1 | net      | Sequential        | 694 K \n",
      "2 | loss_fct | BCEWithLogitsLoss | 0     \n",
      "-----------------------------------------------\n",
      "695 K     Trainable params\n",
      "0         Non-trainable params\n",
      "695 K     Total params\n"
     ]
    },
    {
     "name": "stdout",
     "output_type": "stream",
     "text": [
      "creating dir ./complete_run_logs/EMNIST/baseline/version_1611827271\n",
      "time to fit was 8.80854845046997\n",
      "Results = {'min_auc': 0.5086535811424255, 'macro_avg_auc': 0.6270560324192047, 'micro_avg_auc': 0.7237970232963562, 'minority_auc': 0.7454584836959839, 'accuracy': 0.6329113841056824}\n"
     ]
    },
    {
     "name": "stderr",
     "output_type": "stream",
     "text": [
      "GPU available: False, used: False\n",
      "TPU available: None, using: 0 TPU cores\n",
      "\n",
      "  | Name      | Type              | Params\n",
      "------------------------------------------------\n",
      "0 | learner   | CNN_Learner       | 695 K \n",
      "1 | adversary | CNN_Adversary     | 11.5 K\n",
      "2 | loss_fct  | BCEWithLogitsLoss | 0     \n",
      "------------------------------------------------\n",
      "706 K     Trainable params\n",
      "0         Non-trainable params\n",
      "706 K     Total params\n"
     ]
    },
    {
     "name": "stdout",
     "output_type": "stream",
     "text": [
      "creating dir ./complete_run_logs/EMNIST/ARL/version_1611827291\n",
      "time to fit was 149.1567988395691\n",
      "Results = {'min_auc': 0.6261046528816223, 'macro_avg_auc': 0.7487154006958008, 'micro_avg_auc': 0.8523166179656982, 'minority_auc': 0.8713261485099792, 'accuracy': 0.775291919708252}\n"
     ]
    }
   ],
   "source": [
    "all_dicts = []\n",
    "\n",
    "for seed in range(NUM_SEEDS):\n",
    "    all_dicts.append(run_models(seed, default_args, optimal_hparams, dataset_model_list))"
   ]
  },
  {
   "cell_type": "markdown",
   "metadata": {},
   "source": [
    "Finally, we calculate the means and standard deviations over those runs:"
   ]
  },
  {
   "cell_type": "code",
   "execution_count": 14,
   "metadata": {},
   "outputs": [
    {
     "ename": "StatisticsError",
     "evalue": "variance requires at least two data points",
     "output_type": "error",
     "traceback": [
      "\u001b[0;31m---------------------------------------------------------------------------\u001b[0m",
      "\u001b[0;31mStatisticsError\u001b[0m                           Traceback (most recent call last)",
      "\u001b[0;32m<ipython-input-14-51f1eb3feb5c>\u001b[0m in \u001b[0;36m<module>\u001b[0;34m\u001b[0m\n\u001b[0;32m----> 1\u001b[0;31m \u001b[0mour_results\u001b[0m \u001b[0;34m=\u001b[0m \u001b[0mresult_list_to_dict\u001b[0m\u001b[0;34m(\u001b[0m\u001b[0mall_dicts\u001b[0m\u001b[0;34m,\u001b[0m \u001b[0mdataset_model_list\u001b[0m\u001b[0;34m,\u001b[0m \u001b[0mMAIN_RESULTS_KEYS\u001b[0m\u001b[0;34m)\u001b[0m\u001b[0;34m\u001b[0m\u001b[0;34m\u001b[0m\u001b[0m\n\u001b[0m",
      "\u001b[0;32m<ipython-input-13-4c5cabb67adb>\u001b[0m in \u001b[0;36mresult_list_to_dict\u001b[0;34m(results, dataset_model_list, metrics)\u001b[0m\n\u001b[1;32m      1\u001b[0m \u001b[0;32mdef\u001b[0m \u001b[0mresult_list_to_dict\u001b[0m\u001b[0;34m(\u001b[0m\u001b[0mresults\u001b[0m\u001b[0;34m,\u001b[0m \u001b[0mdataset_model_list\u001b[0m\u001b[0;34m,\u001b[0m \u001b[0mmetrics\u001b[0m\u001b[0;34m)\u001b[0m\u001b[0;34m:\u001b[0m\u001b[0;34m\u001b[0m\u001b[0;34m\u001b[0m\u001b[0m\n\u001b[0;32m----> 2\u001b[0;31m     return {\n\u001b[0m\u001b[1;32m      3\u001b[0m         k: {\n\u001b[1;32m      4\u001b[0m             metric: {\n\u001b[1;32m      5\u001b[0m                 \u001b[0;34m'mean'\u001b[0m\u001b[0;34m:\u001b[0m \u001b[0mstatistics\u001b[0m\u001b[0;34m.\u001b[0m\u001b[0mmean\u001b[0m\u001b[0;34m(\u001b[0m\u001b[0mresult_dict\u001b[0m\u001b[0;34m[\u001b[0m\u001b[0mk\u001b[0m\u001b[0;34m]\u001b[0m\u001b[0;34m[\u001b[0m\u001b[0mmetric\u001b[0m\u001b[0;34m]\u001b[0m \u001b[0;32mfor\u001b[0m \u001b[0mresult_dict\u001b[0m \u001b[0;32min\u001b[0m \u001b[0mresults\u001b[0m\u001b[0;34m)\u001b[0m\u001b[0;34m,\u001b[0m\u001b[0;34m\u001b[0m\u001b[0;34m\u001b[0m\u001b[0m\n",
      "\u001b[0;32m<ipython-input-13-4c5cabb67adb>\u001b[0m in \u001b[0;36m<dictcomp>\u001b[0;34m(.0)\u001b[0m\n\u001b[1;32m      1\u001b[0m \u001b[0;32mdef\u001b[0m \u001b[0mresult_list_to_dict\u001b[0m\u001b[0;34m(\u001b[0m\u001b[0mresults\u001b[0m\u001b[0;34m,\u001b[0m \u001b[0mdataset_model_list\u001b[0m\u001b[0;34m,\u001b[0m \u001b[0mmetrics\u001b[0m\u001b[0;34m)\u001b[0m\u001b[0;34m:\u001b[0m\u001b[0;34m\u001b[0m\u001b[0;34m\u001b[0m\u001b[0m\n\u001b[1;32m      2\u001b[0m     return {\n\u001b[0;32m----> 3\u001b[0;31m         k: {\n\u001b[0m\u001b[1;32m      4\u001b[0m             metric: {\n\u001b[1;32m      5\u001b[0m                 \u001b[0;34m'mean'\u001b[0m\u001b[0;34m:\u001b[0m \u001b[0mstatistics\u001b[0m\u001b[0;34m.\u001b[0m\u001b[0mmean\u001b[0m\u001b[0;34m(\u001b[0m\u001b[0mresult_dict\u001b[0m\u001b[0;34m[\u001b[0m\u001b[0mk\u001b[0m\u001b[0;34m]\u001b[0m\u001b[0;34m[\u001b[0m\u001b[0mmetric\u001b[0m\u001b[0;34m]\u001b[0m \u001b[0;32mfor\u001b[0m \u001b[0mresult_dict\u001b[0m \u001b[0;32min\u001b[0m \u001b[0mresults\u001b[0m\u001b[0;34m)\u001b[0m\u001b[0;34m,\u001b[0m\u001b[0;34m\u001b[0m\u001b[0;34m\u001b[0m\u001b[0m\n",
      "\u001b[0;32m<ipython-input-13-4c5cabb67adb>\u001b[0m in \u001b[0;36m<dictcomp>\u001b[0;34m(.0)\u001b[0m\n\u001b[1;32m      4\u001b[0m             metric: {\n\u001b[1;32m      5\u001b[0m                 \u001b[0;34m'mean'\u001b[0m\u001b[0;34m:\u001b[0m \u001b[0mstatistics\u001b[0m\u001b[0;34m.\u001b[0m\u001b[0mmean\u001b[0m\u001b[0;34m(\u001b[0m\u001b[0mresult_dict\u001b[0m\u001b[0;34m[\u001b[0m\u001b[0mk\u001b[0m\u001b[0;34m]\u001b[0m\u001b[0;34m[\u001b[0m\u001b[0mmetric\u001b[0m\u001b[0;34m]\u001b[0m \u001b[0;32mfor\u001b[0m \u001b[0mresult_dict\u001b[0m \u001b[0;32min\u001b[0m \u001b[0mresults\u001b[0m\u001b[0;34m)\u001b[0m\u001b[0;34m,\u001b[0m\u001b[0;34m\u001b[0m\u001b[0;34m\u001b[0m\u001b[0m\n\u001b[0;32m----> 6\u001b[0;31m                 \u001b[0;34m'std'\u001b[0m\u001b[0;34m:\u001b[0m \u001b[0mstatistics\u001b[0m\u001b[0;34m.\u001b[0m\u001b[0mstdev\u001b[0m\u001b[0;34m(\u001b[0m\u001b[0mresult_dict\u001b[0m\u001b[0;34m[\u001b[0m\u001b[0mk\u001b[0m\u001b[0;34m]\u001b[0m\u001b[0;34m[\u001b[0m\u001b[0mmetric\u001b[0m\u001b[0;34m]\u001b[0m \u001b[0;32mfor\u001b[0m \u001b[0mresult_dict\u001b[0m \u001b[0;32min\u001b[0m \u001b[0mresults\u001b[0m\u001b[0;34m)\u001b[0m\u001b[0;34m\u001b[0m\u001b[0;34m\u001b[0m\u001b[0m\n\u001b[0m\u001b[1;32m      7\u001b[0m             } for metric in metrics\n\u001b[1;32m      8\u001b[0m         } for k in dataset_model_list\n",
      "\u001b[0;32m~/.miniconda3/envs/fact-ai/lib/python3.8/statistics.py\u001b[0m in \u001b[0;36mstdev\u001b[0;34m(data, xbar)\u001b[0m\n\u001b[1;32m    797\u001b[0m \u001b[0;34m\u001b[0m\u001b[0m\n\u001b[1;32m    798\u001b[0m     \"\"\"\n\u001b[0;32m--> 799\u001b[0;31m     \u001b[0mvar\u001b[0m \u001b[0;34m=\u001b[0m \u001b[0mvariance\u001b[0m\u001b[0;34m(\u001b[0m\u001b[0mdata\u001b[0m\u001b[0;34m,\u001b[0m \u001b[0mxbar\u001b[0m\u001b[0;34m)\u001b[0m\u001b[0;34m\u001b[0m\u001b[0;34m\u001b[0m\u001b[0m\n\u001b[0m\u001b[1;32m    800\u001b[0m     \u001b[0;32mtry\u001b[0m\u001b[0;34m:\u001b[0m\u001b[0;34m\u001b[0m\u001b[0;34m\u001b[0m\u001b[0m\n\u001b[1;32m    801\u001b[0m         \u001b[0;32mreturn\u001b[0m \u001b[0mvar\u001b[0m\u001b[0;34m.\u001b[0m\u001b[0msqrt\u001b[0m\u001b[0;34m(\u001b[0m\u001b[0;34m)\u001b[0m\u001b[0;34m\u001b[0m\u001b[0;34m\u001b[0m\u001b[0m\n",
      "\u001b[0;32m~/.miniconda3/envs/fact-ai/lib/python3.8/statistics.py\u001b[0m in \u001b[0;36mvariance\u001b[0;34m(data, xbar)\u001b[0m\n\u001b[1;32m    739\u001b[0m     \u001b[0mn\u001b[0m \u001b[0;34m=\u001b[0m \u001b[0mlen\u001b[0m\u001b[0;34m(\u001b[0m\u001b[0mdata\u001b[0m\u001b[0;34m)\u001b[0m\u001b[0;34m\u001b[0m\u001b[0;34m\u001b[0m\u001b[0m\n\u001b[1;32m    740\u001b[0m     \u001b[0;32mif\u001b[0m \u001b[0mn\u001b[0m \u001b[0;34m<\u001b[0m \u001b[0;36m2\u001b[0m\u001b[0;34m:\u001b[0m\u001b[0;34m\u001b[0m\u001b[0;34m\u001b[0m\u001b[0m\n\u001b[0;32m--> 741\u001b[0;31m         \u001b[0;32mraise\u001b[0m \u001b[0mStatisticsError\u001b[0m\u001b[0;34m(\u001b[0m\u001b[0;34m'variance requires at least two data points'\u001b[0m\u001b[0;34m)\u001b[0m\u001b[0;34m\u001b[0m\u001b[0;34m\u001b[0m\u001b[0m\n\u001b[0m\u001b[1;32m    742\u001b[0m     \u001b[0mT\u001b[0m\u001b[0;34m,\u001b[0m \u001b[0mss\u001b[0m \u001b[0;34m=\u001b[0m \u001b[0m_ss\u001b[0m\u001b[0;34m(\u001b[0m\u001b[0mdata\u001b[0m\u001b[0;34m,\u001b[0m \u001b[0mxbar\u001b[0m\u001b[0;34m)\u001b[0m\u001b[0;34m\u001b[0m\u001b[0;34m\u001b[0m\u001b[0m\n\u001b[1;32m    743\u001b[0m     \u001b[0;32mreturn\u001b[0m \u001b[0m_convert\u001b[0m\u001b[0;34m(\u001b[0m\u001b[0mss\u001b[0m\u001b[0;34m/\u001b[0m\u001b[0;34m(\u001b[0m\u001b[0mn\u001b[0m\u001b[0;34m-\u001b[0m\u001b[0;36m1\u001b[0m\u001b[0;34m)\u001b[0m\u001b[0;34m,\u001b[0m \u001b[0mT\u001b[0m\u001b[0;34m)\u001b[0m\u001b[0;34m\u001b[0m\u001b[0;34m\u001b[0m\u001b[0m\n",
      "\u001b[0;31mStatisticsError\u001b[0m: variance requires at least two data points"
     ]
    }
   ],
   "source": [
    "our_results = result_list_to_dict(all_dicts, dataset_model_list, MAIN_RESULTS_KEYS)"
   ]
  },
  {
   "cell_type": "markdown",
   "metadata": {},
   "source": [
    "## Creating the performance tables"
   ]
  },
  {
   "cell_type": "markdown",
   "metadata": {},
   "source": [
    "If you didn't run train your own models in the previous section, then uncomment and run the following cell, in order to load our results:"
   ]
  },
  {
   "cell_type": "code",
   "execution_count": 15,
   "metadata": {},
   "outputs": [
    {
     "name": "stdout",
     "output_type": "stream",
     "text": [
      "Didn't find results for EMNIST, baseline, skipping\n",
      "Didn't find results for EMNIST, DRO, skipping\n",
      "Didn't find results for EMNIST, ARL, skipping\n",
      "Didn't find results for EMNIST, IPW(S), skipping\n",
      "Didn't find results for EMNIST, IPW(S+Y), skipping\n"
     ]
    }
   ],
   "source": [
    "# You can adjust here which models and datasets you want to run\n",
    "#models = ['baseline', 'DRO', 'ARL', 'IPW(S)', 'IPW(S+Y)']\n",
    "#datasets = ['Adult', 'LSAC', 'COMPAS', 'EMNIST']\n",
    "\n",
    "#our_results = load_result_dict('final_logs', datasets, models, get_our_path)"
   ]
  },
  {
   "cell_type": "markdown",
   "metadata": {},
   "source": [
    "Since we only ran the baseline and ARL model on EMNIST, some results will be missing and won't be loaded. The analysis below will still work, it doesn't require the result dictionary to contain all dataset/model combinations.\n",
    "\n",
    "For each dataset/model combination and each metric, the results dict contains the mean and standard deviation across the 10 runs with different seeds:"
   ]
  },
  {
   "cell_type": "code",
   "execution_count": 16,
   "metadata": {},
   "outputs": [
    {
     "data": {
      "text/plain": [
       "{('Adult',\n",
       "  'baseline'): {'min_auc': {'mean': 0.8841554284095764,\n",
       "   'std': 0.001854611751477643}, 'macro_avg_auc': {'mean': 0.9192625850439071,\n",
       "   'std': 0.0011282166339539464}, 'micro_avg_auc': {'mean': 0.9093350052833558,\n",
       "   'std': 0.0015697947803360107}, 'minority_auc': {'mean': 0.9439521610736847,\n",
       "   'std': 0.00402528608154091}, 'accuracy': {'mean': 0.8498372375965119,\n",
       "   'std': 0.007023698725317251}},\n",
       " ('Adult',\n",
       "  'DRO'): {'min_auc': {'mean': 0.885297292470932,\n",
       "   'std': 0.0006518614005294807}, 'macro_avg_auc': {'mean': 0.918700386583805,\n",
       "   'std': 0.001815989101837644}, 'micro_avg_auc': {'mean': 0.9101847589015961,\n",
       "   'std': 0.0007322508613241217}, 'minority_auc': {'mean': 0.9414238631725311,\n",
       "   'std': 0.0059271811311176065}, 'accuracy': {'mean': 0.8574227571487427,\n",
       "   'std': 0.0015485177592630156}},\n",
       " ('Adult',\n",
       "  'ARL'): {'min_auc': {'mean': 0.8839888334274292,\n",
       "   'std': 0.0009290685557899277}, 'macro_avg_auc': {'mean': 0.9177511766552925,\n",
       "   'std': 0.0007697829337825584}, 'micro_avg_auc': {'mean': 0.909021383523941,\n",
       "   'std': 0.0006983387894980422}, 'minority_auc': {'mean': 0.9392572224140168,\n",
       "   'std': 0.0031013138435674096}, 'accuracy': {'mean': 0.8504084527492524,\n",
       "   'std': 0.0027642594178873365}},\n",
       " ('Adult',\n",
       "  'IPW(S)'): {'min_auc': {'mean': 0.8825878918170929,\n",
       "   'std': 0.0004708791209487286}, 'macro_avg_auc': {'mean': 0.9179135039448738,\n",
       "   'std': 0.0006762005235629669}, 'micro_avg_auc': {'mean': 0.9084809064865113,\n",
       "   'std': 0.00038465930835096567}, 'minority_auc': {'mean': 0.9434264242649079,\n",
       "   'std': 0.0017741875213855907}, 'accuracy': {'mean': 0.8556968331336975,\n",
       "   'std': 0.0010485673860099606}},\n",
       " ('Adult',\n",
       "  'IPW(S+Y)'): {'min_auc': {'mean': 0.8858548104763031,\n",
       "   'std': 0.0009749523617090153}, 'macro_avg_auc': {'mean': 0.9209401607513428,\n",
       "   'std': 0.0020079927026957047}, 'micro_avg_auc': {'mean': 0.9110168039798736,\n",
       "   'std': 0.0009485988563515816}, 'minority_auc': {'mean': 0.9464905261993408,\n",
       "   'std': 0.00474765444554837}, 'accuracy': {'mean': 0.7427615046501159,\n",
       "   'std': 0.016013912450744894}},\n",
       " ('LSAC',\n",
       "  'baseline'): {'min_auc': {'mean': 0.809587162733078,\n",
       "   'std': 0.007261673989205601}, 'macro_avg_auc': {'mean': 0.8263224929571151,\n",
       "   'std': 0.006320658062567331}, 'micro_avg_auc': {'mean': 0.8308768033981323,\n",
       "   'std': 0.006125600903567921}, 'minority_auc': {'mean': 0.8371349692344665,\n",
       "   'std': 0.008663927583626517}, 'accuracy': {'mean': 0.8603690683841705,\n",
       "   'std': 0.0047114557687987155}},\n",
       " ('LSAC',\n",
       "  'DRO'): {'min_auc': {'mean': 0.8024195849895477,\n",
       "   'std': 0.005450376735466344}, 'macro_avg_auc': {'mean': 0.8216530039906502,\n",
       "   'std': 0.005252958069085682}, 'micro_avg_auc': {'mean': 0.8242175877094269,\n",
       "   'std': 0.005053520510365091}, 'minority_auc': {'mean': 0.8360665738582611,\n",
       "   'std': 0.008792840507089778}, 'accuracy': {'mean': 0.856954550743103,\n",
       "   'std': 0.005730779687932392}},\n",
       " ('LSAC',\n",
       "  'ARL'): {'min_auc': {'mean': 0.7870349168777466,\n",
       "   'std': 0.006611413827233918}, 'macro_avg_auc': {'mean': 0.8062602519989014,\n",
       "   'std': 0.009125115444270854}, 'micro_avg_auc': {'mean': 0.8121891498565674,\n",
       "   'std': 0.0062661862055438415}, 'minority_auc': {'mean': 0.8263799846172333,\n",
       "   'std': 0.01985299888920426}, 'accuracy': {'mean': 0.7501004159450531,\n",
       "   'std': 0.028954358941967292}},\n",
       " ('LSAC',\n",
       "  'IPW(S)'): {'min_auc': {'mean': 0.7933273136615753,\n",
       "   'std': 0.008925248987352948}, 'macro_avg_auc': {'mean': 0.8087994486093522,\n",
       "   'std': 0.005612173493772559}, 'micro_avg_auc': {'mean': 0.8146691143512725,\n",
       "   'std': 0.0066466150685270346}, 'minority_auc': {'mean': 0.8162126183509827,\n",
       "   'std': 0.009000189842834277}, 'accuracy': {'mean': 0.848292738199234,\n",
       "   'std': 0.0033043015537189556}},\n",
       " ('LSAC',\n",
       "  'IPW(S+Y)'): {'min_auc': {'mean': 0.815028703212738,\n",
       "   'std': 0.0053660242492792175}, 'macro_avg_auc': {'mean': 0.8301831230521202,\n",
       "   'std': 0.002950046761651818}, 'micro_avg_auc': {'mean': 0.8371433317661285,\n",
       "   'std': 0.0038309820288383073}, 'minority_auc': {'mean': 0.8373931527137757,\n",
       "   'std': 0.007228663031665757}, 'accuracy': {'mean': 0.8351870477199554,\n",
       "   'std': 0.010823343554077028}},\n",
       " ('COMPAS',\n",
       "  'baseline'): {'min_auc': {'mean': 0.6994797766208649,\n",
       "   'std': 0.0029431332945148354}, 'macro_avg_auc': {'mean': 0.7339891374111176,\n",
       "   'std': 0.0026599763383265383}, 'micro_avg_auc': {'mean': 0.7357430100440979,\n",
       "   'std': 0.002495810380890724}, 'minority_auc': {'mean': 0.7475245952606201,\n",
       "   'std': 0.0023939276390155476}, 'accuracy': {'mean': 0.6734693825244904,\n",
       "   'std': 0.005680638192015183}},\n",
       " ('COMPAS',\n",
       "  'DRO'): {'min_auc': {'mean': 0.6996595561504364,\n",
       "   'std': 0.0034582863378119053}, 'macro_avg_auc': {'mean': 0.7346805244684219,\n",
       "   'std': 0.0032341360548626716}, 'micro_avg_auc': {'mean': 0.7361120104789733,\n",
       "   'std': 0.003034601991546629}, 'minority_auc': {'mean': 0.7532936871051789,\n",
       "   'std': 0.004436680144277011}, 'accuracy': {'mean': 0.6688311696052551,\n",
       "   'std': 0.0070555726230699944}},\n",
       " ('COMPAS',\n",
       "  'ARL'): {'min_auc': {'mean': 0.7007744431495666,\n",
       "   'std': 0.0022503030026757194}, 'macro_avg_auc': {'mean': 0.7346980944275856,\n",
       "   'std': 0.003212318848323717}, 'micro_avg_auc': {'mean': 0.736423236131668,\n",
       "   'std': 0.0025655267598587244}, 'minority_auc': {'mean': 0.7481063783168793,\n",
       "   'std': 0.007968981022254707}, 'accuracy': {'mean': 0.6755565941333771,\n",
       "   'std': 0.009070646479130865}},\n",
       " ('COMPAS',\n",
       "  'IPW(S)'): {'min_auc': {'mean': 0.6914442837238312,\n",
       "   'std': 0.0024410192993997303}, 'macro_avg_auc': {'mean': 0.7294217452406884,\n",
       "   'std': 0.005810725328761996}, 'micro_avg_auc': {'mean': 0.7299513995647431,\n",
       "   'std': 0.003996129009742444}, 'minority_auc': {'mean': 0.739940732717514,\n",
       "   'std': 0.012359321027723233}, 'accuracy': {'mean': 0.6660946190357209,\n",
       "   'std': 0.015876611410544965}},\n",
       " ('COMPAS',\n",
       "  'IPW(S+Y)'): {'min_auc': {'mean': 0.699827927350998,\n",
       "   'std': 0.0028995276483842775}, 'macro_avg_auc': {'mean': 0.7346159726381302,\n",
       "   'std': 0.00309280325179338}, 'micro_avg_auc': {'mean': 0.7361835479736328,\n",
       "   'std': 0.002917692421203801}, 'minority_auc': {'mean': 0.7526033699512482,\n",
       "   'std': 0.004296978311754475}, 'accuracy': {'mean': 0.673283851146698,\n",
       "   'std': 0.009643041770321048}}}"
      ]
     },
     "execution_count": 16,
     "metadata": {},
     "output_type": "execute_result"
    }
   ],
   "source": [
    "our_results"
   ]
  },
  {
   "cell_type": "markdown",
   "metadata": {},
   "source": [
    "We also provide helper tools to pretty print these results as Markdown tables. The `MAIN_RESULTS_KEYS` and `MAIN_RESULTS_HEADERS` are simple constants imported from `analysis_utils.py` to create those tables."
   ]
  },
  {
   "cell_type": "code",
   "execution_count": 17,
   "metadata": {},
   "outputs": [
    {
     "data": {
      "text/markdown": [
       "\n",
       "|Dataset|Method|Micro-avg AUC|Macro-avg AUC|Min AUC|Minority AUC|Accuracy|\n",
       "|---|---|---|---|---|---|---|\n",
       "| Adult| baseline | 0.9093 +- 0.0016 | 0.9193 +- 0.0011 | 0.8842 +- 0.0019 | 0.9440 +- 0.0040 | 0.8498 +- 0.0070\n",
       "| Adult| DRO | 0.9102 +- 0.0007 | 0.9187 +- 0.0018 | 0.8853 +- 0.0007 | 0.9414 +- 0.0059 | **0.8574 +- 0.0015**\n",
       "| Adult| ARL | 0.9090 +- 0.0007 | 0.9178 +- 0.0008 | 0.8840 +- 0.0009 | 0.9393 +- 0.0031 | 0.8504 +- 0.0028\n",
       "| Adult| IPW(S) | 0.9085 +- 0.0004 | 0.9179 +- 0.0007 | 0.8826 +- 0.0005 | 0.9434 +- 0.0018 | 0.8557 +- 0.0010\n",
       "| Adult| IPW(S+Y) | **0.9110 +- 0.0009** | **0.9209 +- 0.0020** | **0.8859 +- 0.0010** | **0.9465 +- 0.0047** | 0.7428 +- 0.0160\n",
       "| LSAC| baseline | 0.8309 +- 0.0061 | 0.8263 +- 0.0063 | 0.8096 +- 0.0073 | 0.8371 +- 0.0087 | **0.8604 +- 0.0047**\n",
       "| LSAC| DRO | 0.8242 +- 0.0051 | 0.8217 +- 0.0053 | 0.8024 +- 0.0055 | 0.8361 +- 0.0088 | 0.8570 +- 0.0057\n",
       "| LSAC| ARL | 0.8122 +- 0.0063 | 0.8063 +- 0.0091 | 0.7870 +- 0.0066 | 0.8264 +- 0.0199 | 0.7501 +- 0.0290\n",
       "| LSAC| IPW(S) | 0.8147 +- 0.0066 | 0.8088 +- 0.0056 | 0.7933 +- 0.0089 | 0.8162 +- 0.0090 | 0.8483 +- 0.0033\n",
       "| LSAC| IPW(S+Y) | **0.8371 +- 0.0038** | **0.8302 +- 0.0030** | **0.8150 +- 0.0054** | **0.8374 +- 0.0072** | 0.8352 +- 0.0108\n",
       "| COMPAS| baseline | 0.7357 +- 0.0025 | 0.7340 +- 0.0027 | 0.6995 +- 0.0029 | 0.7475 +- 0.0024 | 0.6735 +- 0.0057\n",
       "| COMPAS| DRO | 0.7361 +- 0.0030 | 0.7347 +- 0.0032 | 0.6997 +- 0.0035 | **0.7533 +- 0.0044** | 0.6688 +- 0.0071\n",
       "| COMPAS| ARL | **0.7364 +- 0.0026** | **0.7347 +- 0.0032** | **0.7008 +- 0.0023** | 0.7481 +- 0.0080 | **0.6756 +- 0.0091**\n",
       "| COMPAS| IPW(S) | 0.7300 +- 0.0040 | 0.7294 +- 0.0058 | 0.6914 +- 0.0024 | 0.7399 +- 0.0124 | 0.6661 +- 0.0159\n",
       "| COMPAS| IPW(S+Y) | 0.7362 +- 0.0029 | 0.7346 +- 0.0031 | 0.6998 +- 0.0029 | 0.7526 +- 0.0043 | 0.6733 +- 0.0096\n"
      ],
      "text/plain": [
       "<IPython.core.display.Markdown object>"
      ]
     },
     "metadata": {},
     "output_type": "display_data"
    }
   ],
   "source": [
    "bold_dict = is_max(our_results, MAIN_RESULTS_KEYS)\n",
    "table = create_table(our_results, MAIN_RESULTS_KEYS, bold_dict, create_markdown_line_with_std)\n",
    "display(Markdown(MAIN_RESULTS_HEADER + table))"
   ]
  },
  {
   "cell_type": "markdown",
   "metadata": {},
   "source": [
    "### Main results\n",
    "First, we reproduce the tables comparing ARL against DRO and the baseline, and against IPW. We already had a table with all the results above but in the paper, the authors split this into two separate comparisons and we follow them for the report. This only changes which fields are bolded as the best entry."
   ]
  },
  {
   "cell_type": "code",
   "execution_count": 18,
   "metadata": {},
   "outputs": [
    {
     "data": {
      "text/markdown": [
       "\n",
       "|Dataset|Method|Micro-avg AUC|Macro-avg AUC|Min AUC|Minority AUC|Accuracy|\n",
       "|---|---|---|---|---|---|---|\n",
       "| Adult| baseline | 0.9093 +- 0.0016 | **0.9193 +- 0.0011** | 0.8842 +- 0.0019 | **0.9440 +- 0.0040** | 0.8498 +- 0.0070\n",
       "| Adult| DRO | **0.9102 +- 0.0007** | 0.9187 +- 0.0018 | **0.8853 +- 0.0007** | 0.9414 +- 0.0059 | **0.8574 +- 0.0015**\n",
       "| Adult| ARL | 0.9090 +- 0.0007 | 0.9178 +- 0.0008 | 0.8840 +- 0.0009 | 0.9393 +- 0.0031 | 0.8504 +- 0.0028\n",
       "| LSAC| baseline | **0.8309 +- 0.0061** | **0.8263 +- 0.0063** | **0.8096 +- 0.0073** | **0.8371 +- 0.0087** | **0.8604 +- 0.0047**\n",
       "| LSAC| DRO | 0.8242 +- 0.0051 | 0.8217 +- 0.0053 | 0.8024 +- 0.0055 | 0.8361 +- 0.0088 | 0.8570 +- 0.0057\n",
       "| LSAC| ARL | 0.8122 +- 0.0063 | 0.8063 +- 0.0091 | 0.7870 +- 0.0066 | 0.8264 +- 0.0199 | 0.7501 +- 0.0290\n",
       "| COMPAS| baseline | 0.7357 +- 0.0025 | 0.7340 +- 0.0027 | 0.6995 +- 0.0029 | 0.7475 +- 0.0024 | 0.6735 +- 0.0057\n",
       "| COMPAS| DRO | 0.7361 +- 0.0030 | 0.7347 +- 0.0032 | 0.6997 +- 0.0035 | **0.7533 +- 0.0044** | 0.6688 +- 0.0071\n",
       "| COMPAS| ARL | **0.7364 +- 0.0026** | **0.7347 +- 0.0032** | **0.7008 +- 0.0023** | 0.7481 +- 0.0080 | **0.6756 +- 0.0091**\n"
      ],
      "text/plain": [
       "<IPython.core.display.Markdown object>"
      ]
     },
     "metadata": {},
     "output_type": "display_data"
    }
   ],
   "source": [
    "# restrict the models we want to compare\n",
    "models = ['baseline', 'DRO', 'ARL']\n",
    "datasets = ['Adult', 'LSAC', 'COMPAS']\n",
    "results = {(dataset, model): v for (dataset, model), v in our_results.items()\n",
    "          if model in models and dataset in datasets}\n",
    "# calculate maxima\n",
    "bold_dict = is_max(results, MAIN_RESULTS_KEYS)\n",
    "\n",
    "table = create_table(results, MAIN_RESULTS_KEYS, bold_dict, create_markdown_line_with_std)\n",
    "display(Markdown(MAIN_RESULTS_HEADER + table))"
   ]
  },
  {
   "cell_type": "markdown",
   "metadata": {},
   "source": [
    "The tables in our report were generated similarly, just using LaTeX:"
   ]
  },
  {
   "cell_type": "code",
   "execution_count": 20,
   "metadata": {},
   "outputs": [
    {
     "name": "stdout",
     "output_type": "stream",
     "text": [
      "Adult & baseline & 0.9093 $\\pm$ 0.0016 & \\textbf{0.9193} $\\pm$ \\textbf{0.0011} & 0.8842 $\\pm$ 0.0019 & \\textbf{0.9440} $\\pm$ \\textbf{0.0040} & 0.8498 $\\pm$ 0.0070\\\\\n",
      "Adult & DRO & \\textbf{0.9102} $\\pm$ \\textbf{0.0007} & 0.9187 $\\pm$ 0.0018 & \\textbf{0.8853} $\\pm$ \\textbf{0.0007} & 0.9414 $\\pm$ 0.0059 & \\textbf{0.8574} $\\pm$ \\textbf{0.0015}\\\\\n",
      "Adult & ARL & 0.9090 $\\pm$ 0.0007 & 0.9178 $\\pm$ 0.0008 & 0.8840 $\\pm$ 0.0009 & 0.9393 $\\pm$ 0.0031 & 0.8504 $\\pm$ 0.0028\\\\\n",
      "LSAC & baseline & \\textbf{0.8309} $\\pm$ \\textbf{0.0061} & \\textbf{0.8263} $\\pm$ \\textbf{0.0063} & \\textbf{0.8096} $\\pm$ \\textbf{0.0073} & \\textbf{0.8371} $\\pm$ \\textbf{0.0087} & \\textbf{0.8604} $\\pm$ \\textbf{0.0047}\\\\\n",
      "LSAC & DRO & 0.8242 $\\pm$ 0.0051 & 0.8217 $\\pm$ 0.0053 & 0.8024 $\\pm$ 0.0055 & 0.8361 $\\pm$ 0.0088 & 0.8570 $\\pm$ 0.0057\\\\\n",
      "LSAC & ARL & 0.8122 $\\pm$ 0.0063 & 0.8063 $\\pm$ 0.0091 & 0.7870 $\\pm$ 0.0066 & 0.8264 $\\pm$ 0.0199 & 0.7501 $\\pm$ 0.0290\\\\\n",
      "COMPAS & baseline & 0.7357 $\\pm$ 0.0025 & 0.7340 $\\pm$ 0.0027 & 0.6995 $\\pm$ 0.0029 & 0.7475 $\\pm$ 0.0024 & 0.6735 $\\pm$ 0.0057\\\\\n",
      "COMPAS & DRO & 0.7361 $\\pm$ 0.0030 & 0.7347 $\\pm$ 0.0032 & 0.6997 $\\pm$ 0.0035 & \\textbf{0.7533} $\\pm$ \\textbf{0.0044} & 0.6688 $\\pm$ 0.0071\\\\\n",
      "COMPAS & ARL & \\textbf{0.7364} $\\pm$ \\textbf{0.0026} & \\textbf{0.7347} $\\pm$ \\textbf{0.0032} & \\textbf{0.7008} $\\pm$ \\textbf{0.0023} & 0.7481 $\\pm$ 0.0080 & \\textbf{0.6756} $\\pm$ \\textbf{0.0091}\\\\\n",
      "\n"
     ]
    }
   ],
   "source": [
    "print(create_table(results, MAIN_RESULTS_KEYS, bold_dict, create_latex_line_with_std))"
   ]
  },
  {
   "cell_type": "markdown",
   "metadata": {},
   "source": [
    "Now we repeat the same thing for a comparison to IPW:"
   ]
  },
  {
   "cell_type": "code",
   "execution_count": 21,
   "metadata": {},
   "outputs": [
    {
     "data": {
      "text/markdown": [
       "\n",
       "|Dataset|Method|Micro-avg AUC|Macro-avg AUC|Min AUC|Minority AUC|Accuracy|\n",
       "|---|---|---|---|---|---|---|\n",
       "| Adult| ARL | 0.9090 +- 0.0007 | 0.9178 +- 0.0008 | 0.8840 +- 0.0009 | 0.9393 +- 0.0031 | 0.8504 +- 0.0028\n",
       "| Adult| IPW(S) | 0.9085 +- 0.0004 | 0.9179 +- 0.0007 | 0.8826 +- 0.0005 | 0.9434 +- 0.0018 | **0.8557 +- 0.0010**\n",
       "| Adult| IPW(S+Y) | **0.9110 +- 0.0009** | **0.9209 +- 0.0020** | **0.8859 +- 0.0010** | **0.9465 +- 0.0047** | 0.7428 +- 0.0160\n",
       "| LSAC| ARL | 0.8122 +- 0.0063 | 0.8063 +- 0.0091 | 0.7870 +- 0.0066 | 0.8264 +- 0.0199 | 0.7501 +- 0.0290\n",
       "| LSAC| IPW(S) | 0.8147 +- 0.0066 | 0.8088 +- 0.0056 | 0.7933 +- 0.0089 | 0.8162 +- 0.0090 | **0.8483 +- 0.0033**\n",
       "| LSAC| IPW(S+Y) | **0.8371 +- 0.0038** | **0.8302 +- 0.0030** | **0.8150 +- 0.0054** | **0.8374 +- 0.0072** | 0.8352 +- 0.0108\n",
       "| COMPAS| ARL | **0.7364 +- 0.0026** | **0.7347 +- 0.0032** | **0.7008 +- 0.0023** | 0.7481 +- 0.0080 | **0.6756 +- 0.0091**\n",
       "| COMPAS| IPW(S) | 0.7300 +- 0.0040 | 0.7294 +- 0.0058 | 0.6914 +- 0.0024 | 0.7399 +- 0.0124 | 0.6661 +- 0.0159\n",
       "| COMPAS| IPW(S+Y) | 0.7362 +- 0.0029 | 0.7346 +- 0.0031 | 0.6998 +- 0.0029 | **0.7526 +- 0.0043** | 0.6733 +- 0.0096\n"
      ],
      "text/plain": [
       "<IPython.core.display.Markdown object>"
      ]
     },
     "metadata": {},
     "output_type": "display_data"
    }
   ],
   "source": [
    "models = ['ARL', 'IPW(S)', 'IPW(S+Y)']\n",
    "datasets = ['Adult', 'LSAC', 'COMPAS']\n",
    "results = {(dataset, model): v for (dataset, model), v in our_results.items()\n",
    "          if model in models and dataset in datasets}\n",
    "bold_dict = is_max(results, MAIN_RESULTS_KEYS)\n",
    "\n",
    "table = create_table(results, MAIN_RESULTS_KEYS, bold_dict, create_markdown_line_with_std)\n",
    "display(Markdown(MAIN_RESULTS_HEADER + table))"
   ]
  },
  {
   "cell_type": "code",
   "execution_count": 22,
   "metadata": {},
   "outputs": [
    {
     "name": "stdout",
     "output_type": "stream",
     "text": [
      "Adult & ARL & 0.9090 $\\pm$ 0.0007 & 0.9178 $\\pm$ 0.0008 & 0.8840 $\\pm$ 0.0009 & 0.9393 $\\pm$ 0.0031 & 0.8504 $\\pm$ 0.0028\\\\\n",
      "Adult & IPW(S) & 0.9085 $\\pm$ 0.0004 & 0.9179 $\\pm$ 0.0007 & 0.8826 $\\pm$ 0.0005 & 0.9434 $\\pm$ 0.0018 & \\textbf{0.8557} $\\pm$ \\textbf{0.0010}\\\\\n",
      "Adult & IPW(S+Y) & \\textbf{0.9110} $\\pm$ \\textbf{0.0009} & \\textbf{0.9209} $\\pm$ \\textbf{0.0020} & \\textbf{0.8859} $\\pm$ \\textbf{0.0010} & \\textbf{0.9465} $\\pm$ \\textbf{0.0047} & 0.7428 $\\pm$ 0.0160\\\\\n",
      "LSAC & ARL & 0.8122 $\\pm$ 0.0063 & 0.8063 $\\pm$ 0.0091 & 0.7870 $\\pm$ 0.0066 & 0.8264 $\\pm$ 0.0199 & 0.7501 $\\pm$ 0.0290\\\\\n",
      "LSAC & IPW(S) & 0.8147 $\\pm$ 0.0066 & 0.8088 $\\pm$ 0.0056 & 0.7933 $\\pm$ 0.0089 & 0.8162 $\\pm$ 0.0090 & \\textbf{0.8483} $\\pm$ \\textbf{0.0033}\\\\\n",
      "LSAC & IPW(S+Y) & \\textbf{0.8371} $\\pm$ \\textbf{0.0038} & \\textbf{0.8302} $\\pm$ \\textbf{0.0030} & \\textbf{0.8150} $\\pm$ \\textbf{0.0054} & \\textbf{0.8374} $\\pm$ \\textbf{0.0072} & 0.8352 $\\pm$ 0.0108\\\\\n",
      "COMPAS & ARL & \\textbf{0.7364} $\\pm$ \\textbf{0.0026} & \\textbf{0.7347} $\\pm$ \\textbf{0.0032} & \\textbf{0.7008} $\\pm$ \\textbf{0.0023} & 0.7481 $\\pm$ 0.0080 & \\textbf{0.6756} $\\pm$ \\textbf{0.0091}\\\\\n",
      "COMPAS & IPW(S) & 0.7300 $\\pm$ 0.0040 & 0.7294 $\\pm$ 0.0058 & 0.6914 $\\pm$ 0.0024 & 0.7399 $\\pm$ 0.0124 & 0.6661 $\\pm$ 0.0159\\\\\n",
      "COMPAS & IPW(S+Y) & 0.7362 $\\pm$ 0.0029 & 0.7346 $\\pm$ 0.0031 & 0.6998 $\\pm$ 0.0029 & \\textbf{0.7526} $\\pm$ \\textbf{0.0043} & 0.6733 $\\pm$ 0.0096\\\\\n",
      "\n"
     ]
    }
   ],
   "source": [
    "print(create_table(results, MAIN_RESULTS_KEYS, bold_dict, create_latex_line_with_std))"
   ]
  },
  {
   "cell_type": "markdown",
   "metadata": {},
   "source": [
    "### Image results"
   ]
  },
  {
   "cell_type": "code",
   "execution_count": 25,
   "metadata": {},
   "outputs": [
    {
     "data": {
      "text/markdown": [
       "\n",
       "|Dataset|Method|Micro-avg AUC|Macro-avg AUC|Min AUC|Minority AUC|Accuracy|\n",
       "|---|---|---|---|---|---|---|\n"
      ],
      "text/plain": [
       "<IPython.core.display.Markdown object>"
      ]
     },
     "metadata": {},
     "output_type": "display_data"
    }
   ],
   "source": [
    "models = ['baseline', 'ARL']\n",
    "datasets = ['EMNIST']\n",
    "results = {(dataset, model): v for (dataset, model), v in our_results.items()\n",
    "          if model in models and dataset in datasets}\n",
    "bold_dict = is_max(results, MAIN_RESULTS_KEYS)\n",
    "\n",
    "table = create_table(results, MAIN_RESULTS_KEYS, bold_dict, create_markdown_line_with_std)\n",
    "display(Markdown(MAIN_RESULTS_HEADER + table))"
   ]
  },
  {
   "cell_type": "code",
   "execution_count": 26,
   "metadata": {},
   "outputs": [
    {
     "name": "stdout",
     "output_type": "stream",
     "text": [
      "\n"
     ]
    }
   ],
   "source": [
    "print(create_table(results, MAIN_RESULTS_KEYS, bold_dict, create_latex_line_with_std))"
   ]
  },
  {
   "cell_type": "markdown",
   "metadata": {},
   "source": [
    "### Comparison to results from the paper\n",
    "Next, we compare our results to those from the paper we're reproducing. Since that paper doesn't report accuracy values, we don't include those in the comparison."
   ]
  },
  {
   "cell_type": "code",
   "execution_count": 27,
   "metadata": {},
   "outputs": [
    {
     "name": "stdout",
     "output_type": "stream",
     "text": [
      "Didn't find results for EMNIST, baseline, skipping\n",
      "Didn't find results for EMNIST, DRO, skipping\n",
      "Didn't find results for EMNIST, ARL, skipping\n"
     ]
    }
   ],
   "source": [
    "models = ['baseline', 'DRO', 'ARL']\n",
    "our_results = load_result_dict('final_logs', datasets, models, get_our_path)\n",
    "for k in our_results:\n",
    "    del our_results[k][\"accuracy\"]"
   ]
  },
  {
   "cell_type": "markdown",
   "metadata": {},
   "source": [
    "Next, we calculate the differences between our and their results (`absolute_errors`) and the standard error of those differences (`total_stds`). From those, we can calculate relative errors (`relative_errors`) that immediately show how significant the deviations are. We use some helper tools that we imported above to add, subtract, etc. dictionaries key-wise."
   ]
  },
  {
   "cell_type": "code",
   "execution_count": 28,
   "metadata": {},
   "outputs": [
    {
     "name": "stdout",
     "output_type": "stream",
     "text": [
      "Didn't find results for EMNIST, baseline, skipping\n",
      "Didn't find results for EMNIST, DRO, skipping\n",
      "Didn't find results for EMNIST, ARL, skipping\n"
     ]
    }
   ],
   "source": [
    "our_means = {k1: {k2: v2[\"mean\"] for k2, v2 in v1.items()} for k1, v1 in our_results.items()}\n",
    "our_stds = {k1: {k2: v2[\"std\"] for k2, v2 in v1.items()} for k1, v1 in our_results.items()}\n",
    "\n",
    "# if you want to compare to some other results instead, for example ones that you got using\n",
    "# different hparams, you can load from other json files here instead\n",
    "# and don't need to change anything else\n",
    "models = ['baseline', 'DRO', 'ARL']\n",
    "their_results = load_result_dict('paper_results', datasets, models, get_their_path)\n",
    "\n",
    "their_means = {k1: {k2: v2[\"mean\"] for k2, v2 in v1.items()} for k1, v1 in their_results.items()}\n",
    "their_stds = {k1: {k2: v2[\"std\"] for k2, v2 in v1.items()} for k1, v1 in their_results.items()}\n",
    "\n",
    "absolute_errors = subtract(our_means, their_means)\n",
    "total_stds = valmap(add(square(our_stds), square(their_stds)), math.sqrt)\n",
    "relative_errors = div(absolute_errors, total_stds)"
   ]
  },
  {
   "cell_type": "markdown",
   "metadata": {},
   "source": [
    "We can again print the results as a Markdown table. `bold_dict` determines which fields of the table will be bolded. In this case, we bold all those relative errors that are at least two standard deviations."
   ]
  },
  {
   "cell_type": "code",
   "execution_count": 29,
   "metadata": {},
   "outputs": [
    {
     "data": {
      "text/markdown": [
       "\n",
       "|Dataset|Method|Micro-avg AUC|Macro-avg AUC|Min AUC|Minority AUC|\n",
       "|---|---|---|---|---|---|\n"
      ],
      "text/plain": [
       "<IPython.core.display.Markdown object>"
      ]
     },
     "metadata": {},
     "output_type": "display_data"
    }
   ],
   "source": [
    "bold_dict = valmap(relative_errors, lambda x: abs(x) >= 2)\n",
    "\n",
    "table = create_table(relative_errors, DEVIATION_KEYS, bold_dict, create_markdown_line_scalar)\n",
    "display(Markdown(DEVIATION_HEADER + table))"
   ]
  },
  {
   "cell_type": "markdown",
   "metadata": {},
   "source": [
    "And again in LaTeX for the report:"
   ]
  },
  {
   "cell_type": "code",
   "execution_count": 31,
   "metadata": {},
   "outputs": [
    {
     "name": "stdout",
     "output_type": "stream",
     "text": [
      "\n"
     ]
    }
   ],
   "source": [
    "print(create_table(our_results, DEVIATION_KEYS, bold_dict, create_latex_line_with_std))"
   ]
  },
  {
   "cell_type": "markdown",
   "metadata": {},
   "source": [
    "## Plots of training runs\n",
    "In this section, we plot the development of various metrics during training. The data comes from the tensorboard logs, we simply aggregate the right runs and then average over seeds, calculate standard deviations, and show everything in one plot."
   ]
  },
  {
   "cell_type": "markdown",
   "metadata": {},
   "source": [
    "Below, you can adjust the dataset for which you want to get plots, as well as the metrics that are plotted. There will be one separate plot for each metric.\n",
    "\n",
    "By default, the plots are based on your own runs from above. You can also load data from our own final runs instead."
   ]
  },
  {
   "cell_type": "code",
   "execution_count": 32,
   "metadata": {},
   "outputs": [],
   "source": [
    "plot_args = Namespace(\n",
    "    # If you want to load our results instead of your own (necessary if\n",
    "    # you didn't do the complete run of all models), then use 'final_logs'\n",
    "    log_dir='complete_run_logs',\n",
    "    #log_dir='final_logs',\n",
    "    \n",
    "    # split for which to plot the data. Other options are 'training' and 'test',\n",
    "    # but by default those are not calculated during training for performance reasons and therefore\n",
    "    # only available if you add Loggers for them in main.py\n",
    "    split='validation',\n",
    "    \n",
    "    # you can change the dataset to 'Adult' or 'COMPAS' here\n",
    "    dataset='LSAC'\n",
    ")\n",
    "\n",
    "# remove metrics that you don't want to plot\n",
    "metrics = ['min_auc', 'macro_avg_auc', 'micro_avg_auc', 'minority_auc', 'accuracy']"
   ]
  },
  {
   "cell_type": "markdown",
   "metadata": {},
   "source": [
    "Now we plot the results for each of the chosen metrics. The plotting script works as follows: it recursively walks the directory containing the training logs for the chosen dataset and each model and aggregates all the tensorboard logs it finds. Then it calculates the average and standard deviation over those logs and plots them.\n",
    "\n",
    "This means you need to be careful that the `log_dir` specified in the cell above only contains the runs you want to include for the plot. If you didn't change any of the log paths, this should be the case."
   ]
  },
  {
   "cell_type": "markdown",
   "metadata": {},
   "source": [
    "Since plotting the results for all methods in one plot is a bit confusing, we again split them into a baseline vs DRO vs ARL and a ARL vs IPW comparison. You can easily adjust this using the `plot_args.models` attribute."
   ]
  },
  {
   "cell_type": "code",
   "execution_count": 33,
   "metadata": {},
   "outputs": [
    {
     "data": {
      "image/png": "[encoded data removed]",
      "text/plain": [
       "<Figure size 432x288 with 1 Axes>"
      ]
     },
     "metadata": {
      "needs_background": "light"
     },
     "output_type": "display_data"
    },
    {
     "data": {
      "image/png": "[encoded data removed]",
      "text/plain": [
       "<Figure size 432x288 with 1 Axes>"
      ]
     },
     "metadata": {
      "needs_background": "light"
     },
     "output_type": "display_data"
    },
    {
     "data": {
      "image/png": "[encoded data removed]",
      "text/plain": [
       "<Figure size 432x288 with 1 Axes>"
      ]
     },
     "metadata": {
      "needs_background": "light"
     },
     "output_type": "display_data"
    },
    {
     "data": {
      "image/png": "[encoded data removed]",
      "text/plain": [
       "<Figure size 432x288 with 1 Axes>"
      ]
     },
     "metadata": {
      "needs_background": "light"
     },
     "output_type": "display_data"
    },
    {
     "data": {
      "image/png": "[encoded data removed]",
      "text/plain": [
       "<Figure size 432x288 with 1 Axes>"
      ]
     },
     "metadata": {
      "needs_background": "light"
     },
     "output_type": "display_data"
    }
   ],
   "source": [
    "plot_args.models = ['baseline', 'DRO', 'ARL']\n",
    "for metric in metrics:\n",
    "    plot_args.metric = metric\n",
    "    plot.main(plot_args)\n",
    "    plt.show()"
   ]
  },
  {
   "cell_type": "code",
   "execution_count": 34,
   "metadata": {},
   "outputs": [
    {
     "data": {
      "image/png": "[encoded data removed]",
      "text/plain": [
       "<Figure size 432x288 with 1 Axes>"
      ]
     },
     "metadata": {
      "needs_background": "light"
     },
     "output_type": "display_data"
    },
    {
     "data": {
      "image/png": "[encoded data removed]",
      "text/plain": [
       "<Figure size 432x288 with 1 Axes>"
      ]
     },
     "metadata": {
      "needs_background": "light"
     },
     "output_type": "display_data"
    },
    {
     "data": {
      "image/png": "[encoded data removed]",
      "text/plain": [
       "<Figure size 432x288 with 1 Axes>"
      ]
     },
     "metadata": {
      "needs_background": "light"
     },
     "output_type": "display_data"
    },
    {
     "data": {
      "image/png": "[encoded data removed]",
      "text/plain": [
       "<Figure size 432x288 with 1 Axes>"
      ]
     },
     "metadata": {
      "needs_background": "light"
     },
     "output_type": "display_data"
    },
    {
     "data": {
      "image/png": "[encoded data removed]",
      "text/plain": [
       "<Figure size 432x288 with 1 Axes>"
      ]
     },
     "metadata": {
      "needs_background": "light"
     },
     "output_type": "display_data"
    }
   ],
   "source": [
    "plot_args.models = ['ARL', 'IPW(S)', 'IPW(S+Y)']\n",
    "for metric in metrics:\n",
    "    plot_args.metric = metric\n",
    "    plot.main(plot_args)\n",
    "    plt.show()"
   ]
  },
  {
   "cell_type": "markdown",
   "metadata": {},
   "source": [
    "## Computational identifiability with a linear adversary\n",
    "A fundamental assumption justifying ARL is that the adversary is able to at least partially determine the protected group memberships from the available features. As in the paper, we test this by training a classifier with the same architecture we use for the adversary to classify samples according to the protected features.\n",
    "\n",
    "For this section, we don't provide precomputed results you can load because training the models should be very quick."
   ]
  },
  {
   "cell_type": "code",
   "execution_count": 35,
   "metadata": {},
   "outputs": [],
   "source": [
    "ident_args = Namespace(\n",
    "    optimizer='Adagrad',\n",
    "    seed=0,\n",
    "    learning_rate=0.001,\n",
    "    batch_size=256,\n",
    "    train_steps=5000,\n",
    "    num_workers=4,\n",
    "    disable_warnings=True,\n",
    "    tf_mode=True,\n",
    "    suffix='',\n",
    "    p_bar=False\n",
    ")"
   ]
  },
  {
   "cell_type": "code",
   "execution_count": 36,
   "metadata": {},
   "outputs": [
    {
     "name": "stderr",
     "output_type": "stream",
     "text": [
      "GPU available: False, used: False\n",
      "TPU available: None, using: 0 TPU cores\n",
      "\n",
      "  | Name     | Type              | Params\n",
      "-----------------------------------------------\n",
      "0 | net      | Linear            | 103   \n",
      "1 | loss_fct | BCEWithLogitsLoss | 0     \n",
      "-----------------------------------------------\n",
      "103       Trainable params\n",
      "0         Non-trainable params\n",
      "103       Total params\n",
      "/home/erik/.miniconda3/envs/fact-ai/lib/python3.8/site-packages/pytorch_lightning/utilities/distributed.py:49: UserWarning: The dataloader, val dataloader 0, does not have many workers which may be a bottleneck. Consider increasing the value of the `num_workers` argument` (try 8 which is the number of cpus on this machine) in the `DataLoader` init to improve performance.\n",
      "  warnings.warn(*args, **kwargs)\n",
      "/home/erik/.miniconda3/envs/fact-ai/lib/python3.8/site-packages/pytorch_lightning/utilities/distributed.py:49: UserWarning: The dataloader, train dataloader, does not have many workers which may be a bottleneck. Consider increasing the value of the `num_workers` argument` (try 8 which is the number of cpus on this machine) in the `DataLoader` init to improve performance.\n",
      "  warnings.warn(*args, **kwargs)\n"
     ]
    },
    {
     "name": "stdout",
     "output_type": "stream",
     "text": [
      "time to fit was 29.12799620628357\n"
     ]
    },
    {
     "name": "stderr",
     "output_type": "stream",
     "text": [
      "/home/erik/.miniconda3/envs/fact-ai/lib/python3.8/site-packages/pytorch_lightning/utilities/distributed.py:49: UserWarning: The dataloader, test dataloader 0, does not have many workers which may be a bottleneck. Consider increasing the value of the `num_workers` argument` (try 8 which is the number of cpus on this machine) in the `DataLoader` init to improve performance.\n",
      "  warnings.warn(*args, **kwargs)\n"
     ]
    },
    {
     "name": "stdout",
     "output_type": "stream",
     "text": [
      "--------------------------------------------------------------------------------\n",
      "DATALOADER:0 TEST RESULTS\n",
      "{'test/accuracy': tensor(0.9028), 'test/loss': tensor(0.3863)}\n",
      "--------------------------------------------------------------------------------\n"
     ]
    },
    {
     "name": "stderr",
     "output_type": "stream",
     "text": [
      "GPU available: False, used: False\n",
      "TPU available: None, using: 0 TPU cores\n",
      "\n",
      "  | Name     | Type              | Params\n",
      "-----------------------------------------------\n",
      "0 | net      | Linear            | 103   \n",
      "1 | loss_fct | BCEWithLogitsLoss | 0     \n",
      "-----------------------------------------------\n",
      "103       Trainable params\n",
      "0         Non-trainable params\n",
      "103       Total params\n"
     ]
    },
    {
     "name": "stdout",
     "output_type": "stream",
     "text": [
      "time to fit was 32.99863028526306\n",
      "--------------------------------------------------------------------------------\n",
      "DATALOADER:0 TEST RESULTS\n",
      "{'test/accuracy': tensor(0.6883), 'test/loss': tensor(0.5832)}\n",
      "--------------------------------------------------------------------------------\n"
     ]
    },
    {
     "name": "stderr",
     "output_type": "stream",
     "text": [
      "GPU available: False, used: False\n",
      "TPU available: None, using: 0 TPU cores\n",
      "\n",
      "  | Name     | Type              | Params\n",
      "-----------------------------------------------\n",
      "0 | net      | Linear            | 12    \n",
      "1 | loss_fct | BCEWithLogitsLoss | 0     \n",
      "-----------------------------------------------\n",
      "12        Trainable params\n",
      "0         Non-trainable params\n",
      "12        Total params\n"
     ]
    },
    {
     "name": "stdout",
     "output_type": "stream",
     "text": [
      "time to fit was 22.45482325553894\n",
      "--------------------------------------------------------------------------------\n",
      "DATALOADER:0 TEST RESULTS\n",
      "{'test/accuracy': tensor(0.6827), 'test/loss': tensor(0.5940)}\n",
      "--------------------------------------------------------------------------------\n"
     ]
    },
    {
     "name": "stderr",
     "output_type": "stream",
     "text": [
      "GPU available: False, used: False\n",
      "TPU available: None, using: 0 TPU cores\n",
      "\n",
      "  | Name     | Type              | Params\n",
      "-----------------------------------------------\n",
      "0 | net      | Linear            | 12    \n",
      "1 | loss_fct | BCEWithLogitsLoss | 0     \n",
      "-----------------------------------------------\n",
      "12        Trainable params\n",
      "0         Non-trainable params\n",
      "12        Total params\n"
     ]
    },
    {
     "name": "stdout",
     "output_type": "stream",
     "text": [
      "time to fit was 10.747794389724731\n",
      "--------------------------------------------------------------------------------\n",
      "DATALOADER:0 TEST RESULTS\n",
      "{'test/accuracy': tensor(0.5448), 'test/loss': tensor(0.7852)}\n",
      "--------------------------------------------------------------------------------\n"
     ]
    },
    {
     "name": "stderr",
     "output_type": "stream",
     "text": [
      "GPU available: False, used: False\n",
      "TPU available: None, using: 0 TPU cores\n",
      "\n",
      "  | Name     | Type              | Params\n",
      "-----------------------------------------------\n",
      "0 | net      | Linear            | 449   \n",
      "1 | loss_fct | BCEWithLogitsLoss | 0     \n",
      "-----------------------------------------------\n",
      "449       Trainable params\n",
      "0         Non-trainable params\n",
      "449       Total params\n"
     ]
    },
    {
     "name": "stdout",
     "output_type": "stream",
     "text": [
      "time to fit was 5.623831033706665\n",
      "--------------------------------------------------------------------------------\n",
      "DATALOADER:0 TEST RESULTS\n",
      "{'test/accuracy': tensor(0.5612), 'test/loss': tensor(0.6829)}\n",
      "--------------------------------------------------------------------------------\n"
     ]
    },
    {
     "name": "stderr",
     "output_type": "stream",
     "text": [
      "GPU available: False, used: False\n",
      "TPU available: None, using: 0 TPU cores\n",
      "\n",
      "  | Name     | Type              | Params\n",
      "-----------------------------------------------\n",
      "0 | net      | Linear            | 449   \n",
      "1 | loss_fct | BCEWithLogitsLoss | 0     \n",
      "-----------------------------------------------\n",
      "449       Trainable params\n",
      "0         Non-trainable params\n",
      "449       Total params\n"
     ]
    },
    {
     "name": "stdout",
     "output_type": "stream",
     "text": [
      "time to fit was 9.346364974975586\n",
      "--------------------------------------------------------------------------------\n",
      "DATALOADER:0 TEST RESULTS\n",
      "{'test/accuracy': tensor(0.7839), 'test/loss': tensor(0.6163)}\n",
      "--------------------------------------------------------------------------------\n"
     ]
    }
   ],
   "source": [
    "datasets = ['Adult', 'LSAC', 'COMPAS']\n",
    "targets = ['race', 'sex']\n",
    "accuracies = defaultdict(dict)\n",
    "\n",
    "for dataset, target in itertools.product(datasets, targets):\n",
    "    ident_args.dataset = dataset\n",
    "    ident_args.target_grp = target\n",
    "    ident_args.dataset_type = 'image' if ident_args.dataset in ['EMNIST'] else 'tabular'\n",
    "\n",
    "    accuracies[target][dataset] = identifiability.main(ident_args)[0]['test/accuracy']"
   ]
  },
  {
   "cell_type": "code",
   "execution_count": 37,
   "metadata": {},
   "outputs": [
    {
     "data": {
      "text/markdown": [
       "\n",
       "|Target|Adult|LSAC|COMPAS|\n",
       "|---|---|---|---|\n",
       "| race | 0.90 | 0.68 | 0.56 |\n",
       "| sex | 0.69 | 0.54 | 0.78 |\n"
      ],
      "text/plain": [
       "<IPython.core.display.Markdown object>"
      ]
     },
     "metadata": {},
     "output_type": "display_data"
    }
   ],
   "source": [
    "bold_dict = defaultdict(lambda: defaultdict(bool))\n",
    "\n",
    "table = create_table(accuracies, datasets, bold_dict, create_markdown_line_scalar)\n",
    "display(Markdown(IDENTIFIABILITY_HEADER + table))"
   ]
  },
  {
   "cell_type": "markdown",
   "metadata": {},
   "source": [
    "## Adversary outputs\n",
    "As a final experiment, we plot the distribution of the weights $\\lambda_i$ that the adversary assigns to samples. By default, ARL is trained on the Adult dataset with the optimal hyperparameters as determined by our grid search. Then the weights are calculated on the test set and for each of TP, FP, TN and FN, a kernel density estimation is performed to get a plot of the distribution. We use Gaussian kernels with a bandwith of 0.3."
   ]
  },
  {
   "cell_type": "markdown",
   "metadata": {},
   "source": [
    "The hyperparameters can be adjusted with the usual `args` object. In particular, you can change the dataset that way."
   ]
  },
  {
   "cell_type": "code",
   "execution_count": 4,
   "metadata": {},
   "outputs": [
    {
     "name": "stderr",
     "output_type": "stream",
     "text": [
      "GPU available: False, used: False\n",
      "TPU available: None, using: 0 TPU cores\n",
      "\n",
      "  | Name      | Type              | Params\n",
      "------------------------------------------------\n",
      "0 | learner   | Learner           | 8.6 K \n",
      "1 | adversary | Adversary         | 103   \n",
      "2 | loss_fct  | BCEWithLogitsLoss | 0     \n",
      "------------------------------------------------\n",
      "8.7 K     Trainable params\n",
      "0         Non-trainable params\n",
      "8.7 K     Total params\n"
     ]
    },
    {
     "name": "stdout",
     "output_type": "stream",
     "text": [
      "creating dir ./training_logs/Adult/ARL_example_weights/version_1611828298\n"
     ]
    },
    {
     "name": "stderr",
     "output_type": "stream",
     "text": [
      "/home/erik/.miniconda3/envs/fact-ai/lib/python3.8/site-packages/pytorch_lightning/utilities/distributed.py:49: UserWarning: The dataloader, val dataloader 0, does not have many workers which may be a bottleneck. Consider increasing the value of the `num_workers` argument` (try 8 which is the number of cpus on this machine) in the `DataLoader` init to improve performance.\n",
      "  warnings.warn(*args, **kwargs)\n",
      "/home/erik/.miniconda3/envs/fact-ai/lib/python3.8/site-packages/pytorch_lightning/utilities/distributed.py:49: UserWarning: training_step returned None if it was on purpose, ignore this warning...\n",
      "  warnings.warn(*args, **kwargs)\n"
     ]
    },
    {
     "name": "stdout",
     "output_type": "stream",
     "text": [
      "time to fit was 11.819230318069458\n",
      "AUC Results = {'min_auc': 0.884856641292572, 'macro_avg_auc': 0.9175562709569931, 'micro_avg_auc': 0.909850537776947, 'minority_auc': 0.9365413784980774, 'accuracy': 0.8396289944648743}\n",
      "Evaluating adversary scores on test set\n"
     ]
    },
    {
     "data": {
      "image/png": "[encoded data removed]",
      "text/plain": [
       "<Figure size 432x288 with 4 Axes>"
      ]
     },
     "metadata": {
      "needs_background": "light"
     },
     "output_type": "display_data"
    }
   ],
   "source": [
    "arl_args = Namespace(**vars(default_args))\n",
    "arl_args.dataset = 'Adult'\n",
    "arl_args.batch_size = 128\n",
    "arl_args.prim_lr = 0.1\n",
    "\n",
    "# There's no reason to change the following settings unless you know what you're doing.\n",
    "# Many of them don't have an effect in this setting anyway.\n",
    "arl_args.notebook = True\n",
    "arl_args.model = 'ARL'\n",
    "arl_args.dataset_type = 'tabular'\n",
    "\n",
    "adversary_outputs.main(arl_args)"
   ]
  },
  {
   "cell_type": "markdown",
   "metadata": {},
   "source": [
    "## Notes on further results\n"
   ]
  },
  {
   "cell_type": "markdown",
   "metadata": {},
   "source": [
    "### Grid search\n",
    "Our `main.py` script can run the entire grid search that we used to determine learning rate and batch size. Simply run `python main.py --model MODEL --dataset DATASET --tf_mode --disable_warnings`. You may also want to set `--num_cpus` and `--num_workers`. Do this for all the models and datasets you want to check. The optimal hyperparameters will be printed and also saved to disk. Then you can enter those in the `optimal_hparams` dictionary above and continue in the section \"Runs for all models and datasets\" to do several different runs with those hyperparameters and average the results."
   ]
  },
  {
   "cell_type": "markdown",
   "metadata": {},
   "source": [
    "### Comparison to Tensorflow implementation (Appendix A)\n",
    "For our report, we also compared the results we got using our PyTorch implementation to the ones we got when using the authors' Tensorflow implementation (both using the same hyperparameters). Because this requires setting up and running the code published by the authors in addition to the code contained in this repository, we do not include this experiment in this notebook.\n",
    "\n",
    "To reproduce it, the comparison between our results and those from the paper we did above can be used as a basis. Instead of loading the `their_results` variable from the JSON file with the paper results, you will need to run the authors' implementation (with the same hyperparameters used for `our_results`) and load the results you get this way."
   ]
  },
  {
   "cell_type": "markdown",
   "metadata": {},
   "source": [
    "### Runs with 100k steps (Appendix C)\n",
    "To use 100k steps instead of the default 5k, simply change `args.train_steps` before running the cell that trains all models on all datasets."
   ]
  }
 ],
 "metadata": {
  "kernelspec": {
   "display_name": "Python [conda env:fact-ai]",
   "language": "python",
   "name": "conda-env-fact-ai-py"
  },
  "language_info": {
   "codemirror_mode": {
    "name": "ipython",
    "version": 3
   },
   "file_extension": ".py",
   "mimetype": "text/x-python",
   "name": "python",
   "nbconvert_exporter": "python",
   "pygments_lexer": "ipython3",
   "version": "3.8.6"
  }
 },
 "nbformat": 4,
 "nbformat_minor": 4
}
